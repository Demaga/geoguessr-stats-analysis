{
 "cells": [
  {
   "cell_type": "code",
   "execution_count": 2,
   "metadata": {},
   "outputs": [],
   "source": [
    "import polars as pl"
   ]
  },
  {
   "cell_type": "code",
   "execution_count": 3,
   "metadata": {},
   "outputs": [
    {
     "data": {
      "text/html": [
       "<div><style>\n",
       ".dataframe > thead > tr,\n",
       ".dataframe > tbody > tr {\n",
       "  text-align: right;\n",
       "  white-space: pre-wrap;\n",
       "}\n",
       "</style>\n",
       "<small>shape: (2, 11)</small><table border=\"1\" class=\"dataframe\"><thead><tr><th>game_id</th><th>forbidMoving</th><th>forbidZooming</th><th>forbidRotating</th><th>roundCount</th><th>mapSlug</th><th>roundTime</th><th>isSinglePlayer</th><th>scoringType</th><th>context</th><th>date</th></tr><tr><td>str</td><td>bool</td><td>bool</td><td>bool</td><td>i64</td><td>str</td><td>i64</td><td>bool</td><td>str</td><td>str</td><td>str</td></tr></thead><tbody><tr><td>&quot;43b82fcf-29d8-4daf-84e9-80e029…</td><td>true</td><td>false</td><td>false</td><td>5</td><td>&quot;world&quot;</td><td>40</td><td>false</td><td>&quot;Unknown&quot;</td><td>&quot;&quot;</td><td>&quot;2024-10-30T18:06:54.013Z&quot;</td></tr><tr><td>&quot;14cf63a7-1289-4b09-9ab8-75eb4f…</td><td>true</td><td>false</td><td>false</td><td>5</td><td>&quot;world&quot;</td><td>40</td><td>false</td><td>&quot;Unknown&quot;</td><td>&quot;&quot;</td><td>&quot;2024-10-30T18:11:55.588Z&quot;</td></tr></tbody></table></div>"
      ],
      "text/plain": [
       "shape: (2, 11)\n",
       "┌────────────┬───────────┬───────────┬───────────┬───┬───────────┬───────────┬─────────┬───────────┐\n",
       "│ game_id    ┆ forbidMov ┆ forbidZoo ┆ forbidRot ┆ … ┆ isSingleP ┆ scoringTy ┆ context ┆ date      │\n",
       "│ ---        ┆ ing       ┆ ming      ┆ ating     ┆   ┆ layer     ┆ pe        ┆ ---     ┆ ---       │\n",
       "│ str        ┆ ---       ┆ ---       ┆ ---       ┆   ┆ ---       ┆ ---       ┆ str     ┆ str       │\n",
       "│            ┆ bool      ┆ bool      ┆ bool      ┆   ┆ bool      ┆ str       ┆         ┆           │\n",
       "╞════════════╪═══════════╪═══════════╪═══════════╪═══╪═══════════╪═══════════╪═════════╪═══════════╡\n",
       "│ 43b82fcf-2 ┆ true      ┆ false     ┆ false     ┆ … ┆ false     ┆ Unknown   ┆         ┆ 2024-10-3 │\n",
       "│ 9d8-4daf-8 ┆           ┆           ┆           ┆   ┆           ┆           ┆         ┆ 0T18:06:5 │\n",
       "│ 4e9-80e029 ┆           ┆           ┆           ┆   ┆           ┆           ┆         ┆ 4.013Z    │\n",
       "│ …          ┆           ┆           ┆           ┆   ┆           ┆           ┆         ┆           │\n",
       "│ 14cf63a7-1 ┆ true      ┆ false     ┆ false     ┆ … ┆ false     ┆ Unknown   ┆         ┆ 2024-10-3 │\n",
       "│ 289-4b09-9 ┆           ┆           ┆           ┆   ┆           ┆           ┆         ┆ 0T18:11:5 │\n",
       "│ ab8-75eb4f ┆           ┆           ┆           ┆   ┆           ┆           ┆         ┆ 5.588Z    │\n",
       "│ …          ┆           ┆           ┆           ┆   ┆           ┆           ┆         ┆           │\n",
       "└────────────┴───────────┴───────────┴───────────┴───┴───────────┴───────────┴─────────┴───────────┘"
      ]
     },
     "execution_count": 3,
     "metadata": {},
     "output_type": "execute_result"
    }
   ],
   "source": [
    "games_df = pl.read_csv(\"games_df.csv\")\n",
    "games_df = games_df.filter(\n",
    "    (pl.col(\"forbidMoving\") == True)\n",
    "    & (pl.col(\"forbidZooming\") == False)\n",
    "    & (pl.col(\"forbidRotating\") == False)\n",
    "    & (pl.col(\"roundCount\") == 5)\n",
    "    & (pl.col(\"roundTime\") == 40)\n",
    "    & (pl.col(\"mapSlug\") == \"world\")\n",
    ")\n",
    "games_df.head(2)"
   ]
  },
  {
   "cell_type": "code",
   "execution_count": 4,
   "metadata": {},
   "outputs": [
    {
     "data": {
      "text/html": [
       "<div><style>\n",
       ".dataframe > thead > tr,\n",
       ".dataframe > tbody > tr {\n",
       "  text-align: right;\n",
       "  white-space: pre-wrap;\n",
       "}\n",
       "</style>\n",
       "<small>shape: (2, 22)</small><table border=\"1\" class=\"dataframe\"><thead><tr><th>roundNumber</th><th>lat</th><th>lng</th><th>distance</th><th>time</th><th>score</th><th>wasCorrect</th><th>gameId</th><th>playerName</th><th>code</th><th>playerId</th><th>payload</th><th>timestamp</th><th>lobby</th><th>countryGuess</th><th>coordinateGuess</th><th>battleRoyaleGameState</th><th>battleRoyalePlayer</th><th>duel</th><th>bullseye</th><th>player</th><th>country_code</th></tr><tr><td>i64</td><td>f64</td><td>f64</td><td>f64</td><td>i64</td><td>i64</td><td>bool</td><td>str</td><td>str</td><td>str</td><td>str</td><td>str</td><td>str</td><td>str</td><td>str</td><td>str</td><td>str</td><td>str</td><td>str</td><td>str</td><td>str</td><td>str</td></tr></thead><tbody><tr><td>3</td><td>51.47018</td><td>5.786652</td><td>117653.422716</td><td>40</td><td>4621</td><td>false</td><td>&quot;ea8d34ee-d2c9-4283-834e-f0438f…</td><td>&quot;moxxiq&quot;</td><td>&quot;LiveChallengeLeaderboardUpdate&quot;</td><td>null</td><td>null</td><td>&quot;2024-08-21T18:47:34.5599291Z&quot;</td><td>null</td><td>null</td><td>null</td><td>null</td><td>null</td><td>null</td><td>null</td><td>&quot;moxxiq&quot;</td><td>&quot;NL&quot;</td></tr><tr><td>3</td><td>-34.665525</td><td>-58.416663</td><td>3.9950e6</td><td>34</td><td>343</td><td>false</td><td>&quot;2d460ac2-f967-420b-9867-cefe08…</td><td>&quot;Ishenko01y&quot;</td><td>&quot;LiveChallengeLeaderboardUpdate&quot;</td><td>null</td><td>null</td><td>&quot;2024-12-11T18:39:45.8073149Z&quot;</td><td>null</td><td>null</td><td>null</td><td>null</td><td>null</td><td>null</td><td>null</td><td>&quot;Ishenko01y&quot;</td><td>&quot;AR&quot;</td></tr></tbody></table></div>"
      ],
      "text/plain": [
       "shape: (2, 22)\n",
       "┌────────────┬────────────┬────────────┬────────────┬───┬──────┬──────────┬────────────┬───────────┐\n",
       "│ roundNumbe ┆ lat        ┆ lng        ┆ distance   ┆ … ┆ duel ┆ bullseye ┆ player     ┆ country_c │\n",
       "│ r          ┆ ---        ┆ ---        ┆ ---        ┆   ┆ ---  ┆ ---      ┆ ---        ┆ ode       │\n",
       "│ ---        ┆ f64        ┆ f64        ┆ f64        ┆   ┆ str  ┆ str      ┆ str        ┆ ---       │\n",
       "│ i64        ┆            ┆            ┆            ┆   ┆      ┆          ┆            ┆ str       │\n",
       "╞════════════╪════════════╪════════════╪════════════╪═══╪══════╪══════════╪════════════╪═══════════╡\n",
       "│ 3          ┆ 51.47018   ┆ 5.786652   ┆ 117653.422 ┆ … ┆ null ┆ null     ┆ moxxiq     ┆ NL        │\n",
       "│            ┆            ┆            ┆ 716        ┆   ┆      ┆          ┆            ┆           │\n",
       "│ 3          ┆ -34.665525 ┆ -58.416663 ┆ 3.9950e6   ┆ … ┆ null ┆ null     ┆ Ishenko01y ┆ AR        │\n",
       "└────────────┴────────────┴────────────┴────────────┴───┴──────┴──────────┴────────────┴───────────┘"
      ]
     },
     "execution_count": 4,
     "metadata": {},
     "output_type": "execute_result"
    }
   ],
   "source": [
    "guesses_df = pl.read_csv(\"guesses_df.csv\")\n",
    "guesses_df = guesses_df.filter(\n",
    "    pl.col(\"gameId\").is_in(games_df[\"game_id\"].unique())\n",
    ")\n",
    "guesses_df.head(2)"
   ]
  },
  {
   "cell_type": "code",
   "execution_count": 5,
   "metadata": {},
   "outputs": [
    {
     "data": {
      "text/html": [
       "<div><style>\n",
       ".dataframe > thead > tr,\n",
       ".dataframe > tbody > tr {\n",
       "  text-align: right;\n",
       "  white-space: pre-wrap;\n",
       "}\n",
       "</style>\n",
       "<small>shape: (5, 4)</small><table border=\"1\" class=\"dataframe\"><thead><tr><th>country_code</th><th>total_rounds</th><th>avg_score</th><th>median_score</th></tr><tr><td>str</td><td>u32</td><td>f64</td><td>i32</td></tr></thead><tbody><tr><td>&quot;IN&quot;</td><td>42</td><td>2430.74</td><td>2445</td></tr><tr><td>&quot;IE&quot;</td><td>42</td><td>3861.26</td><td>4478</td></tr><tr><td>&quot;PS&quot;</td><td>3</td><td>4197.67</td><td>4971</td></tr><tr><td>&quot;CL&quot;</td><td>23</td><td>1279.87</td><td>893</td></tr><tr><td>&quot;BT&quot;</td><td>5</td><td>2980.0</td><td>4524</td></tr></tbody></table></div>"
      ],
      "text/plain": [
       "shape: (5, 4)\n",
       "┌──────────────┬──────────────┬───────────┬──────────────┐\n",
       "│ country_code ┆ total_rounds ┆ avg_score ┆ median_score │\n",
       "│ ---          ┆ ---          ┆ ---       ┆ ---          │\n",
       "│ str          ┆ u32          ┆ f64       ┆ i32          │\n",
       "╞══════════════╪══════════════╪═══════════╪══════════════╡\n",
       "│ IN           ┆ 42           ┆ 2430.74   ┆ 2445         │\n",
       "│ IE           ┆ 42           ┆ 3861.26   ┆ 4478         │\n",
       "│ PS           ┆ 3            ┆ 4197.67   ┆ 4971         │\n",
       "│ CL           ┆ 23           ┆ 1279.87   ┆ 893          │\n",
       "│ BT           ┆ 5            ┆ 2980.0    ┆ 4524         │\n",
       "└──────────────┴──────────────┴───────────┴──────────────┘"
      ]
     },
     "execution_count": 5,
     "metadata": {},
     "output_type": "execute_result"
    }
   ],
   "source": [
    "df = guesses_df.group_by(\"country_code\").agg(\n",
    "    total_rounds=pl.col(\"country_code\").count(),\n",
    "    avg_score=pl.col(\"score\").mean().round(2),\n",
    "    median_score=pl.col(\"score\").median().cast(pl.Int32),\n",
    ")\n",
    "df.sample(5)"
   ]
  },
  {
   "cell_type": "code",
   "execution_count": 6,
   "metadata": {},
   "outputs": [
    {
     "data": {
      "text/html": [
       "<div><style>\n",
       ".dataframe > thead > tr,\n",
       ".dataframe > tbody > tr {\n",
       "  text-align: right;\n",
       "  white-space: pre-wrap;\n",
       "}\n",
       "</style>\n",
       "<small>shape: (5, 4)</small><table border=\"1\" class=\"dataframe\"><thead><tr><th>country_code</th><th>total_rounds</th><th>avg_score</th><th>median_score</th></tr><tr><td>str</td><td>u32</td><td>f64</td><td>i32</td></tr></thead><tbody><tr><td>&quot;NL&quot;</td><td>57</td><td>4291.26</td><td>4621</td></tr><tr><td>&quot;KR&quot;</td><td>29</td><td>4195.72</td><td>4530</td></tr><tr><td>&quot;CH&quot;</td><td>25</td><td>4104.32</td><td>4720</td></tr><tr><td>&quot;AT&quot;</td><td>74</td><td>3886.22</td><td>4256</td></tr><tr><td>&quot;IE&quot;</td><td>42</td><td>3861.26</td><td>4478</td></tr></tbody></table></div>"
      ],
      "text/plain": [
       "shape: (5, 4)\n",
       "┌──────────────┬──────────────┬───────────┬──────────────┐\n",
       "│ country_code ┆ total_rounds ┆ avg_score ┆ median_score │\n",
       "│ ---          ┆ ---          ┆ ---       ┆ ---          │\n",
       "│ str          ┆ u32          ┆ f64       ┆ i32          │\n",
       "╞══════════════╪══════════════╪═══════════╪══════════════╡\n",
       "│ NL           ┆ 57           ┆ 4291.26   ┆ 4621         │\n",
       "│ KR           ┆ 29           ┆ 4195.72   ┆ 4530         │\n",
       "│ CH           ┆ 25           ┆ 4104.32   ┆ 4720         │\n",
       "│ AT           ┆ 74           ┆ 3886.22   ┆ 4256         │\n",
       "│ IE           ┆ 42           ┆ 3861.26   ┆ 4478         │\n",
       "└──────────────┴──────────────┴───────────┴──────────────┘"
      ]
     },
     "execution_count": 6,
     "metadata": {},
     "output_type": "execute_result"
    }
   ],
   "source": [
    "df.filter(pl.col(\"total_rounds\") > 20).sort(by=\"avg_score\", descending=True)[:5]"
   ]
  },
  {
   "cell_type": "code",
   "execution_count": 8,
   "metadata": {},
   "outputs": [
    {
     "data": {
      "text/html": [
       "<div><style>\n",
       ".dataframe > thead > tr,\n",
       ".dataframe > tbody > tr {\n",
       "  text-align: right;\n",
       "  white-space: pre-wrap;\n",
       "}\n",
       "</style>\n",
       "<small>shape: (10, 4)</small><table border=\"1\" class=\"dataframe\"><thead><tr><th>country_code</th><th>total_rounds</th><th>avg_score</th><th>median_score</th></tr><tr><td>str</td><td>u32</td><td>f64</td><td>i32</td></tr></thead><tbody><tr><td>&quot;BR&quot;</td><td>38</td><td>686.05</td><td>475</td></tr><tr><td>&quot;EC&quot;</td><td>33</td><td>1198.58</td><td>888</td></tr><tr><td>&quot;CL&quot;</td><td>23</td><td>1279.87</td><td>893</td></tr><tr><td>&quot;KE&quot;</td><td>25</td><td>1291.64</td><td>380</td></tr><tr><td>&quot;BO&quot;</td><td>26</td><td>1300.15</td><td>925</td></tr><tr><td>&quot;RU&quot;</td><td>30</td><td>1362.57</td><td>1107</td></tr><tr><td>&quot;MX&quot;</td><td>75</td><td>1415.64</td><td>400</td></tr><tr><td>&quot;CO&quot;</td><td>57</td><td>1447.12</td><td>637</td></tr><tr><td>&quot;US&quot;</td><td>113</td><td>1489.63</td><td>1052</td></tr><tr><td>&quot;AU&quot;</td><td>57</td><td>1556.14</td><td>983</td></tr></tbody></table></div>"
      ],
      "text/plain": [
       "shape: (10, 4)\n",
       "┌──────────────┬──────────────┬───────────┬──────────────┐\n",
       "│ country_code ┆ total_rounds ┆ avg_score ┆ median_score │\n",
       "│ ---          ┆ ---          ┆ ---       ┆ ---          │\n",
       "│ str          ┆ u32          ┆ f64       ┆ i32          │\n",
       "╞══════════════╪══════════════╪═══════════╪══════════════╡\n",
       "│ BR           ┆ 38           ┆ 686.05    ┆ 475          │\n",
       "│ EC           ┆ 33           ┆ 1198.58   ┆ 888          │\n",
       "│ CL           ┆ 23           ┆ 1279.87   ┆ 893          │\n",
       "│ KE           ┆ 25           ┆ 1291.64   ┆ 380          │\n",
       "│ BO           ┆ 26           ┆ 1300.15   ┆ 925          │\n",
       "│ RU           ┆ 30           ┆ 1362.57   ┆ 1107         │\n",
       "│ MX           ┆ 75           ┆ 1415.64   ┆ 400          │\n",
       "│ CO           ┆ 57           ┆ 1447.12   ┆ 637          │\n",
       "│ US           ┆ 113          ┆ 1489.63   ┆ 1052         │\n",
       "│ AU           ┆ 57           ┆ 1556.14   ┆ 983          │\n",
       "└──────────────┴──────────────┴───────────┴──────────────┘"
      ]
     },
     "execution_count": 8,
     "metadata": {},
     "output_type": "execute_result"
    }
   ],
   "source": [
    "df.filter(pl.col(\"total_rounds\") > 20).sort(by=\"avg_score\", descending=False)[:10]"
   ]
  }
 ],
 "metadata": {
  "kernelspec": {
   "display_name": "geoguessr-stats-analysis",
   "language": "python",
   "name": "python3"
  },
  "language_info": {
   "codemirror_mode": {
    "name": "ipython",
    "version": 3
   },
   "file_extension": ".py",
   "mimetype": "text/x-python",
   "name": "python",
   "nbconvert_exporter": "python",
   "pygments_lexer": "ipython3",
   "version": "3.12.4"
  }
 },
 "nbformat": 4,
 "nbformat_minor": 2
}
