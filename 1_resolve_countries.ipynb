{
 "cells": [
  {
   "cell_type": "code",
   "execution_count": null,
   "metadata": {},
   "outputs": [],
   "source": [
    "import pandas as pd\n",
    "pd.set_option(\"display.max_columns\", None)\n",
    "pd.set_option('display.max_colwidth', None)\n",
    "import json\n",
    "import geopandas as gpd"
   ]
  },
  {
   "cell_type": "code",
   "execution_count": null,
   "metadata": {},
   "outputs": [],
   "source": [
    "with open(\"./geoguessr_events.json\", \"r\") as f:\n",
    "    rows = [json.loads(line) for line in f.readlines()]\n",
    "\n",
    "    answers = []\n",
    "    for row in rows:\n",
    "        if row[\"code\"] != \"LiveChallengeFinished\":\n",
    "            continue\n",
    "        game_id = row[\"gameId\"]\n",
    "        for i, round in enumerate(row[\"liveChallenge\"][\"state\"][\"rounds\"]):\n",
    "            try:\n",
    "                coordinates = round[\"answer\"][\"coordinateAnswerPayload\"][\"coordinate\"]\n",
    "            except TypeError:\n",
    "                continue\n",
    "            lat = coordinates[\"lat\"]\n",
    "            lng = coordinates[\"lng\"]\n",
    "            answer = {\n",
    "                \"gameId\": game_id,\n",
    "                \"roundNumber\": i + 1,\n",
    "                \"lat\": lat,\n",
    "                \"lng\": lng,\n",
    "                \"map\": row[\"liveChallenge\"][\"state\"][\"options\"][\"mapSlug\"]\n",
    "            }\n",
    "            answers.append(answer)\n",
    "    answers_df = pd.DataFrame(answers)\n",
    "answers_df.head()"
   ]
  },
  {
   "cell_type": "code",
   "execution_count": null,
   "metadata": {},
   "outputs": [],
   "source": [
    "world = gpd.read_file(\"./ne_10m_admin_0_countries.zip\")\n",
    "answers_gdf = gpd.GeoDataFrame(answers_df, geometry=gpd.points_from_xy(answers_df.lng, answers_df.lat), crs=\"EPSG:4326\")\n",
    "answers_gdf = gpd.tools.sjoin(answers_gdf, world, how=\"left\")\n",
    "answers_gdf = answers_gdf.rename(columns={\"ISO_A2\": \"country\"})\n",
    "custom_rules = {\n",
    "    228: \"Christmas Island\"\n",
    "}\n",
    "mask = (answers_gdf[\"index_right\"].isin(custom_rules))\n",
    "answers_gdf.loc[mask, \"country\"] = answers_gdf[mask][\"index_right\"].apply(lambda x: custom_rules[x])\n",
    "\n",
    "# monaco rules\n",
    "mask = ((answers_gdf[\"lat\"].round(1) == 43.7) * (answers_gdf[\"lng\"].round(1) == 7.4))\n",
    "answers_gdf.loc[mask, \"country\"] = \"MC\"\n",
    "columns = answers_df.columns.to_list() + [\"country\"]\n",
    "answers_gdf = answers_gdf[columns]"
   ]
  },
  {
   "cell_type": "code",
   "execution_count": null,
   "metadata": {},
   "outputs": [],
   "source": [
    "with open(\"./geoguessr_events.json\", \"r\") as f:\n",
    "    rows = [json.loads(line) for line in f.readlines()]\n",
    "\n",
    "    records = []\n",
    "    for row in rows:\n",
    "        if row[\"code\"] != \"LiveChallengeLeaderboardUpdate\":\n",
    "            continue\n",
    "        common_values = row.copy()\n",
    "        del common_values[\"liveChallenge\"]\n",
    "        game_id = common_values[\"gameId\"]\n",
    "        guesses = row[\"liveChallenge\"][\"leaderboards\"][\"round\"][\"guesses\"]\n",
    "        entries = row[\"liveChallenge\"][\"leaderboards\"][\"round\"][\"entries\"]\n",
    "        for i, guess in enumerate(guesses):\n",
    "            if not guess:\n",
    "                continue\n",
    "            record = guess.copy()\n",
    "            record.update(common_values)\n",
    "            record[\"player\"] = entries[i][\"name\"]\n",
    "            records.append(record)\n",
    "guesses_df = pd.DataFrame(records)\n",
    "guesses_df = guesses_df.drop_duplicates(subset=[\"player\", \"roundNumber\", \"gameId\"], keep=\"last\")\n",
    "guesses_df.head()"
   ]
  },
  {
   "cell_type": "code",
   "execution_count": null,
   "metadata": {},
   "outputs": [],
   "source": [
    "guesses_gdf = gpd.GeoDataFrame(guesses_df, geometry=gpd.points_from_xy(guesses_df.lng, guesses_df.lat), crs=\"EPSG:4326\")\n",
    "guesses_gdf = gpd.tools.sjoin(guesses_gdf, world, how=\"left\")\n",
    "columns = guesses_df.columns.to_list() + [\"ISO_A2\"]\n",
    "guesses_gdf = guesses_gdf[columns]\n",
    "guesses_gdf = guesses_gdf.drop(columns=[\"countryGuess\"])\n",
    "guesses_gdf = guesses_gdf.rename(columns={\"ISO_A2\": \"country\"})\n",
    "guesses_gdf"
   ]
  },
  {
   "cell_type": "code",
   "execution_count": null,
   "metadata": {},
   "outputs": [],
   "source": [
    "gdf = guesses_gdf.merge(answers_gdf, on=[\"gameId\", \"roundNumber\"], suffixes=[\"Guess\", \"Answer\"])\n",
    "gdf.head()"
   ]
  },
  {
   "cell_type": "code",
   "execution_count": null,
   "metadata": {},
   "outputs": [],
   "source": [
    "gdf.loc[gdf[\"countryAnswer\"] == \"-99\", \"countryAnswer\"] = \"NO_ID\"\n",
    "gdf[\"countryAnswer\"] = gdf[\"countryAnswer\"].fillna(\"NO_ID\")"
   ]
  },
  {
   "cell_type": "code",
   "execution_count": null,
   "metadata": {},
   "outputs": [],
   "source": [
    "gdf[\"countryAnswer\"].value_counts()"
   ]
  },
  {
   "cell_type": "code",
   "execution_count": null,
   "metadata": {},
   "outputs": [],
   "source": [
    "gdf.to_csv(\"gdf.csv\", index=False)"
   ]
  }
 ],
 "metadata": {
  "kernelspec": {
   "display_name": "venv",
   "language": "python",
   "name": "python3"
  },
  "language_info": {
   "codemirror_mode": {
    "name": "ipython",
    "version": 3
   },
   "file_extension": ".py",
   "mimetype": "text/x-python",
   "name": "python",
   "nbconvert_exporter": "python",
   "pygments_lexer": "ipython3",
   "version": "3.11.5"
  }
 },
 "nbformat": 4,
 "nbformat_minor": 2
}
