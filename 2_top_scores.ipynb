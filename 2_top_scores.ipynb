{
 "cells": [
  {
   "cell_type": "code",
   "execution_count": 1,
   "metadata": {},
   "outputs": [],
   "source": [
    "import polars as pl"
   ]
  },
  {
   "cell_type": "code",
   "execution_count": 2,
   "metadata": {},
   "outputs": [
    {
     "data": {
      "text/html": [
       "<div><style>\n",
       ".dataframe > thead > tr,\n",
       ".dataframe > tbody > tr {\n",
       "  text-align: right;\n",
       "  white-space: pre-wrap;\n",
       "}\n",
       "</style>\n",
       "<small>shape: (2, 11)</small><table border=\"1\" class=\"dataframe\"><thead><tr><th>game_id</th><th>forbidMoving</th><th>forbidZooming</th><th>forbidRotating</th><th>roundCount</th><th>mapSlug</th><th>roundTime</th><th>isSinglePlayer</th><th>scoringType</th><th>context</th><th>date</th></tr><tr><td>str</td><td>bool</td><td>bool</td><td>bool</td><td>i64</td><td>str</td><td>i64</td><td>bool</td><td>str</td><td>str</td><td>str</td></tr></thead><tbody><tr><td>&quot;d30d3d04-d8d1-44cb-ab9e-294433…</td><td>true</td><td>false</td><td>false</td><td>5</td><td>&quot;world&quot;</td><td>20</td><td>false</td><td>&quot;Unknown&quot;</td><td>&quot;&quot;</td><td>&quot;2024-10-11T13:39:41.699Z&quot;</td></tr><tr><td>&quot;43b82fcf-29d8-4daf-84e9-80e029…</td><td>true</td><td>false</td><td>false</td><td>5</td><td>&quot;world&quot;</td><td>40</td><td>false</td><td>&quot;Unknown&quot;</td><td>&quot;&quot;</td><td>&quot;2024-10-30T18:06:54.013Z&quot;</td></tr></tbody></table></div>"
      ],
      "text/plain": [
       "shape: (2, 11)\n",
       "┌────────────┬───────────┬───────────┬───────────┬───┬───────────┬───────────┬─────────┬───────────┐\n",
       "│ game_id    ┆ forbidMov ┆ forbidZoo ┆ forbidRot ┆ … ┆ isSingleP ┆ scoringTy ┆ context ┆ date      │\n",
       "│ ---        ┆ ing       ┆ ming      ┆ ating     ┆   ┆ layer     ┆ pe        ┆ ---     ┆ ---       │\n",
       "│ str        ┆ ---       ┆ ---       ┆ ---       ┆   ┆ ---       ┆ ---       ┆ str     ┆ str       │\n",
       "│            ┆ bool      ┆ bool      ┆ bool      ┆   ┆ bool      ┆ str       ┆         ┆           │\n",
       "╞════════════╪═══════════╪═══════════╪═══════════╪═══╪═══════════╪═══════════╪═════════╪═══════════╡\n",
       "│ d30d3d04-d ┆ true      ┆ false     ┆ false     ┆ … ┆ false     ┆ Unknown   ┆         ┆ 2024-10-1 │\n",
       "│ 8d1-44cb-a ┆           ┆           ┆           ┆   ┆           ┆           ┆         ┆ 1T13:39:4 │\n",
       "│ b9e-294433 ┆           ┆           ┆           ┆   ┆           ┆           ┆         ┆ 1.699Z    │\n",
       "│ …          ┆           ┆           ┆           ┆   ┆           ┆           ┆         ┆           │\n",
       "│ 43b82fcf-2 ┆ true      ┆ false     ┆ false     ┆ … ┆ false     ┆ Unknown   ┆         ┆ 2024-10-3 │\n",
       "│ 9d8-4daf-8 ┆           ┆           ┆           ┆   ┆           ┆           ┆         ┆ 0T18:06:5 │\n",
       "│ 4e9-80e029 ┆           ┆           ┆           ┆   ┆           ┆           ┆         ┆ 4.013Z    │\n",
       "│ …          ┆           ┆           ┆           ┆   ┆           ┆           ┆         ┆           │\n",
       "└────────────┴───────────┴───────────┴───────────┴───┴───────────┴───────────┴─────────┴───────────┘"
      ]
     },
     "execution_count": 2,
     "metadata": {},
     "output_type": "execute_result"
    }
   ],
   "source": [
    "games_df = pl.read_csv(\"games_df.csv\")\n",
    "games_df.head(2)"
   ]
  },
  {
   "cell_type": "code",
   "execution_count": 3,
   "metadata": {},
   "outputs": [
    {
     "data": {
      "text/html": [
       "<div><style>\n",
       ".dataframe > thead > tr,\n",
       ".dataframe > tbody > tr {\n",
       "  text-align: right;\n",
       "  white-space: pre-wrap;\n",
       "}\n",
       "</style>\n",
       "<small>shape: (2, 22)</small><table border=\"1\" class=\"dataframe\"><thead><tr><th>roundNumber</th><th>lat</th><th>lng</th><th>distance</th><th>time</th><th>score</th><th>wasCorrect</th><th>gameId</th><th>playerName</th><th>code</th><th>playerId</th><th>payload</th><th>timestamp</th><th>lobby</th><th>countryGuess</th><th>coordinateGuess</th><th>battleRoyaleGameState</th><th>battleRoyalePlayer</th><th>duel</th><th>bullseye</th><th>player</th><th>country_code</th></tr><tr><td>i64</td><td>f64</td><td>f64</td><td>f64</td><td>i64</td><td>i64</td><td>bool</td><td>str</td><td>str</td><td>str</td><td>str</td><td>str</td><td>str</td><td>str</td><td>str</td><td>str</td><td>str</td><td>str</td><td>str</td><td>str</td><td>str</td><td>str</td></tr></thead><tbody><tr><td>1</td><td>56.764597</td><td>25.268669</td><td>866133.539355</td><td>23</td><td>2798</td><td>false</td><td>&quot;15202a19-bbf8-44fe-a670-6eb80c…</td><td>&quot;Ishenko01y&quot;</td><td>&quot;LiveChallengeLeaderboardUpdate&quot;</td><td>null</td><td>null</td><td>&quot;2024-08-20T10:16:05.1979398Z&quot;</td><td>null</td><td>null</td><td>null</td><td>null</td><td>null</td><td>null</td><td>null</td><td>&quot;Ishenko01y&quot;</td><td>&quot;LV&quot;</td></tr><tr><td>3</td><td>51.47018</td><td>5.786652</td><td>117653.422716</td><td>40</td><td>4621</td><td>false</td><td>&quot;ea8d34ee-d2c9-4283-834e-f0438f…</td><td>&quot;moxxiq&quot;</td><td>&quot;LiveChallengeLeaderboardUpdate&quot;</td><td>null</td><td>null</td><td>&quot;2024-08-21T18:47:34.5599291Z&quot;</td><td>null</td><td>null</td><td>null</td><td>null</td><td>null</td><td>null</td><td>null</td><td>&quot;moxxiq&quot;</td><td>&quot;NL&quot;</td></tr></tbody></table></div>"
      ],
      "text/plain": [
       "shape: (2, 22)\n",
       "┌─────────────┬───────────┬───────────┬────────────┬───┬──────┬──────────┬────────────┬────────────┐\n",
       "│ roundNumber ┆ lat       ┆ lng       ┆ distance   ┆ … ┆ duel ┆ bullseye ┆ player     ┆ country_co │\n",
       "│ ---         ┆ ---       ┆ ---       ┆ ---        ┆   ┆ ---  ┆ ---      ┆ ---        ┆ de         │\n",
       "│ i64         ┆ f64       ┆ f64       ┆ f64        ┆   ┆ str  ┆ str      ┆ str        ┆ ---        │\n",
       "│             ┆           ┆           ┆            ┆   ┆      ┆          ┆            ┆ str        │\n",
       "╞═════════════╪═══════════╪═══════════╪════════════╪═══╪══════╪══════════╪════════════╪════════════╡\n",
       "│ 1           ┆ 56.764597 ┆ 25.268669 ┆ 866133.539 ┆ … ┆ null ┆ null     ┆ Ishenko01y ┆ LV         │\n",
       "│             ┆           ┆           ┆ 355        ┆   ┆      ┆          ┆            ┆            │\n",
       "│ 3           ┆ 51.47018  ┆ 5.786652  ┆ 117653.422 ┆ … ┆ null ┆ null     ┆ moxxiq     ┆ NL         │\n",
       "│             ┆           ┆           ┆ 716        ┆   ┆      ┆          ┆            ┆            │\n",
       "└─────────────┴───────────┴───────────┴────────────┴───┴──────┴──────────┴────────────┴────────────┘"
      ]
     },
     "execution_count": 3,
     "metadata": {},
     "output_type": "execute_result"
    }
   ],
   "source": [
    "guesses_df = pl.read_csv(\"guesses_df.csv\")\n",
    "guesses_df.head(2)"
   ]
  },
  {
   "cell_type": "code",
   "execution_count": 4,
   "metadata": {},
   "outputs": [
    {
     "data": {
      "text/html": [
       "<div><style>\n",
       ".dataframe > thead > tr,\n",
       ".dataframe > tbody > tr {\n",
       "  text-align: right;\n",
       "  white-space: pre-wrap;\n",
       "}\n",
       "</style>\n",
       "<small>shape: (2, 32)</small><table border=\"1\" class=\"dataframe\"><thead><tr><th>roundNumber</th><th>lat</th><th>lng</th><th>distance</th><th>time</th><th>score</th><th>wasCorrect</th><th>gameId</th><th>playerName</th><th>code</th><th>playerId</th><th>payload</th><th>timestamp</th><th>lobby</th><th>countryGuess</th><th>coordinateGuess</th><th>battleRoyaleGameState</th><th>battleRoyalePlayer</th><th>duel</th><th>bullseye</th><th>player</th><th>country_code</th><th>forbidMoving</th><th>forbidZooming</th><th>forbidRotating</th><th>roundCount</th><th>mapSlug</th><th>roundTime</th><th>isSinglePlayer</th><th>scoringType</th><th>context</th><th>date</th></tr><tr><td>i64</td><td>f64</td><td>f64</td><td>f64</td><td>i64</td><td>i64</td><td>bool</td><td>str</td><td>str</td><td>str</td><td>str</td><td>str</td><td>str</td><td>str</td><td>str</td><td>str</td><td>str</td><td>str</td><td>str</td><td>str</td><td>str</td><td>str</td><td>bool</td><td>bool</td><td>bool</td><td>i64</td><td>str</td><td>i64</td><td>bool</td><td>str</td><td>str</td><td>str</td></tr></thead><tbody><tr><td>1</td><td>56.764597</td><td>25.268669</td><td>866133.539355</td><td>23</td><td>2798</td><td>false</td><td>&quot;15202a19-bbf8-44fe-a670-6eb80c…</td><td>&quot;Ishenko01y&quot;</td><td>&quot;LiveChallengeLeaderboardUpdate&quot;</td><td>null</td><td>null</td><td>&quot;2024-08-20T10:16:05.1979398Z&quot;</td><td>null</td><td>null</td><td>null</td><td>null</td><td>null</td><td>null</td><td>null</td><td>&quot;Ishenko01y&quot;</td><td>&quot;LV&quot;</td><td>true</td><td>false</td><td>false</td><td>5</td><td>&quot;world&quot;</td><td>30</td><td>false</td><td>&quot;Unknown&quot;</td><td>&quot;&quot;</td><td>&quot;2024-08-20T10:19:12.127Z&quot;</td></tr><tr><td>3</td><td>51.47018</td><td>5.786652</td><td>117653.422716</td><td>40</td><td>4621</td><td>false</td><td>&quot;ea8d34ee-d2c9-4283-834e-f0438f…</td><td>&quot;moxxiq&quot;</td><td>&quot;LiveChallengeLeaderboardUpdate&quot;</td><td>null</td><td>null</td><td>&quot;2024-08-21T18:47:34.5599291Z&quot;</td><td>null</td><td>null</td><td>null</td><td>null</td><td>null</td><td>null</td><td>null</td><td>&quot;moxxiq&quot;</td><td>&quot;NL&quot;</td><td>true</td><td>false</td><td>false</td><td>5</td><td>&quot;world&quot;</td><td>40</td><td>false</td><td>&quot;Unknown&quot;</td><td>&quot;&quot;</td><td>&quot;2024-08-21T18:49:24.165Z&quot;</td></tr></tbody></table></div>"
      ],
      "text/plain": [
       "shape: (2, 32)\n",
       "┌────────────┬───────────┬───────────┬───────────┬───┬───────────┬───────────┬─────────┬───────────┐\n",
       "│ roundNumbe ┆ lat       ┆ lng       ┆ distance  ┆ … ┆ isSingleP ┆ scoringTy ┆ context ┆ date      │\n",
       "│ r          ┆ ---       ┆ ---       ┆ ---       ┆   ┆ layer     ┆ pe        ┆ ---     ┆ ---       │\n",
       "│ ---        ┆ f64       ┆ f64       ┆ f64       ┆   ┆ ---       ┆ ---       ┆ str     ┆ str       │\n",
       "│ i64        ┆           ┆           ┆           ┆   ┆ bool      ┆ str       ┆         ┆           │\n",
       "╞════════════╪═══════════╪═══════════╪═══════════╪═══╪═══════════╪═══════════╪═════════╪═══════════╡\n",
       "│ 1          ┆ 56.764597 ┆ 25.268669 ┆ 866133.53 ┆ … ┆ false     ┆ Unknown   ┆         ┆ 2024-08-2 │\n",
       "│            ┆           ┆           ┆ 9355      ┆   ┆           ┆           ┆         ┆ 0T10:19:1 │\n",
       "│            ┆           ┆           ┆           ┆   ┆           ┆           ┆         ┆ 2.127Z    │\n",
       "│ 3          ┆ 51.47018  ┆ 5.786652  ┆ 117653.42 ┆ … ┆ false     ┆ Unknown   ┆         ┆ 2024-08-2 │\n",
       "│            ┆           ┆           ┆ 2716      ┆   ┆           ┆           ┆         ┆ 1T18:49:2 │\n",
       "│            ┆           ┆           ┆           ┆   ┆           ┆           ┆         ┆ 4.165Z    │\n",
       "└────────────┴───────────┴───────────┴───────────┴───┴───────────┴───────────┴─────────┴───────────┘"
      ]
     },
     "execution_count": 4,
     "metadata": {},
     "output_type": "execute_result"
    }
   ],
   "source": [
    "df = guesses_df.join(games_df, left_on=\"gameId\", right_on=\"game_id\")\n",
    "df.head(2)"
   ]
  },
  {
   "cell_type": "code",
   "execution_count": 5,
   "metadata": {},
   "outputs": [
    {
     "data": {
      "text/html": [
       "<div><style>\n",
       ".dataframe > thead > tr,\n",
       ".dataframe > tbody > tr {\n",
       "  text-align: right;\n",
       "  white-space: pre-wrap;\n",
       "}\n",
       "</style>\n",
       "<small>shape: (10, 2)</small><table border=\"1\" class=\"dataframe\"><thead><tr><th>mapSlug</th><th>count</th></tr><tr><td>str</td><td>u32</td></tr></thead><tbody><tr><td>&quot;world&quot;</td><td>6266</td></tr><tr><td>&quot;GeoDetective&quot;</td><td>444</td></tr><tr><td>&quot;5ad0b0cb2a3e0d4da46cc44c&quot;</td><td>122</td></tr><tr><td>&quot;6029991c5048850001d572a9&quot;</td><td>79</td></tr><tr><td>&quot;57357d9f77abe957e8cfd15f&quot;</td><td>65</td></tr><tr><td>&quot;60de2a8a81b92c00015f29e1&quot;</td><td>44</td></tr><tr><td>&quot;61ea4e1d4356b500014cdc8d&quot;</td><td>35</td></tr><tr><td>&quot;61a1846aee665b00016680ce&quot;</td><td>34</td></tr><tr><td>&quot;5cfda2c9bc79e16dd866104d&quot;</td><td>25</td></tr><tr><td>&quot;5d0ce72c8b19a91fe05aa7a8&quot;</td><td>23</td></tr></tbody></table></div>"
      ],
      "text/plain": [
       "shape: (10, 2)\n",
       "┌──────────────────────────┬───────┐\n",
       "│ mapSlug                  ┆ count │\n",
       "│ ---                      ┆ ---   │\n",
       "│ str                      ┆ u32   │\n",
       "╞══════════════════════════╪═══════╡\n",
       "│ world                    ┆ 6266  │\n",
       "│ GeoDetective             ┆ 444   │\n",
       "│ 5ad0b0cb2a3e0d4da46cc44c ┆ 122   │\n",
       "│ 6029991c5048850001d572a9 ┆ 79    │\n",
       "│ 57357d9f77abe957e8cfd15f ┆ 65    │\n",
       "│ 60de2a8a81b92c00015f29e1 ┆ 44    │\n",
       "│ 61ea4e1d4356b500014cdc8d ┆ 35    │\n",
       "│ 61a1846aee665b00016680ce ┆ 34    │\n",
       "│ 5cfda2c9bc79e16dd866104d ┆ 25    │\n",
       "│ 5d0ce72c8b19a91fe05aa7a8 ┆ 23    │\n",
       "└──────────────────────────┴───────┘"
      ]
     },
     "execution_count": 5,
     "metadata": {},
     "output_type": "execute_result"
    }
   ],
   "source": [
    "df[\"mapSlug\"].value_counts().sort(by=\"count\", descending=True)"
   ]
  },
  {
   "cell_type": "code",
   "execution_count": 6,
   "metadata": {},
   "outputs": [
    {
     "data": {
      "text/html": [
       "<div><style>\n",
       ".dataframe > thead > tr,\n",
       ".dataframe > tbody > tr {\n",
       "  text-align: right;\n",
       "  white-space: pre-wrap;\n",
       "}\n",
       "</style>\n",
       "<small>shape: (2, 32)</small><table border=\"1\" class=\"dataframe\"><thead><tr><th>roundNumber</th><th>lat</th><th>lng</th><th>distance</th><th>time</th><th>score</th><th>wasCorrect</th><th>gameId</th><th>playerName</th><th>code</th><th>playerId</th><th>payload</th><th>timestamp</th><th>lobby</th><th>countryGuess</th><th>coordinateGuess</th><th>battleRoyaleGameState</th><th>battleRoyalePlayer</th><th>duel</th><th>bullseye</th><th>player</th><th>country_code</th><th>forbidMoving</th><th>forbidZooming</th><th>forbidRotating</th><th>roundCount</th><th>mapSlug</th><th>roundTime</th><th>isSinglePlayer</th><th>scoringType</th><th>context</th><th>date</th></tr><tr><td>i64</td><td>f64</td><td>f64</td><td>f64</td><td>i64</td><td>i64</td><td>bool</td><td>str</td><td>str</td><td>str</td><td>str</td><td>str</td><td>str</td><td>str</td><td>str</td><td>str</td><td>str</td><td>str</td><td>str</td><td>str</td><td>str</td><td>str</td><td>bool</td><td>bool</td><td>bool</td><td>i64</td><td>str</td><td>i64</td><td>bool</td><td>str</td><td>str</td><td>str</td></tr></thead><tbody><tr><td>1</td><td>56.764597</td><td>25.268669</td><td>866133.539355</td><td>23</td><td>2798</td><td>false</td><td>&quot;15202a19-bbf8-44fe-a670-6eb80c…</td><td>&quot;Ishenko01y&quot;</td><td>&quot;LiveChallengeLeaderboardUpdate&quot;</td><td>null</td><td>null</td><td>&quot;2024-08-20T10:16:05.1979398Z&quot;</td><td>null</td><td>null</td><td>null</td><td>null</td><td>null</td><td>null</td><td>null</td><td>&quot;Ishenko01y&quot;</td><td>&quot;LV&quot;</td><td>true</td><td>false</td><td>false</td><td>5</td><td>&quot;world&quot;</td><td>30</td><td>false</td><td>&quot;Unknown&quot;</td><td>&quot;&quot;</td><td>&quot;2024-08-20T10:19:12.127Z&quot;</td></tr><tr><td>3</td><td>51.47018</td><td>5.786652</td><td>117653.422716</td><td>40</td><td>4621</td><td>false</td><td>&quot;ea8d34ee-d2c9-4283-834e-f0438f…</td><td>&quot;moxxiq&quot;</td><td>&quot;LiveChallengeLeaderboardUpdate&quot;</td><td>null</td><td>null</td><td>&quot;2024-08-21T18:47:34.5599291Z&quot;</td><td>null</td><td>null</td><td>null</td><td>null</td><td>null</td><td>null</td><td>null</td><td>&quot;moxxiq&quot;</td><td>&quot;NL&quot;</td><td>true</td><td>false</td><td>false</td><td>5</td><td>&quot;world&quot;</td><td>40</td><td>false</td><td>&quot;Unknown&quot;</td><td>&quot;&quot;</td><td>&quot;2024-08-21T18:49:24.165Z&quot;</td></tr></tbody></table></div>"
      ],
      "text/plain": [
       "shape: (2, 32)\n",
       "┌────────────┬───────────┬───────────┬───────────┬───┬───────────┬───────────┬─────────┬───────────┐\n",
       "│ roundNumbe ┆ lat       ┆ lng       ┆ distance  ┆ … ┆ isSingleP ┆ scoringTy ┆ context ┆ date      │\n",
       "│ r          ┆ ---       ┆ ---       ┆ ---       ┆   ┆ layer     ┆ pe        ┆ ---     ┆ ---       │\n",
       "│ ---        ┆ f64       ┆ f64       ┆ f64       ┆   ┆ ---       ┆ ---       ┆ str     ┆ str       │\n",
       "│ i64        ┆           ┆           ┆           ┆   ┆ bool      ┆ str       ┆         ┆           │\n",
       "╞════════════╪═══════════╪═══════════╪═══════════╪═══╪═══════════╪═══════════╪═════════╪═══════════╡\n",
       "│ 1          ┆ 56.764597 ┆ 25.268669 ┆ 866133.53 ┆ … ┆ false     ┆ Unknown   ┆         ┆ 2024-08-2 │\n",
       "│            ┆           ┆           ┆ 9355      ┆   ┆           ┆           ┆         ┆ 0T10:19:1 │\n",
       "│            ┆           ┆           ┆           ┆   ┆           ┆           ┆         ┆ 2.127Z    │\n",
       "│ 3          ┆ 51.47018  ┆ 5.786652  ┆ 117653.42 ┆ … ┆ false     ┆ Unknown   ┆         ┆ 2024-08-2 │\n",
       "│            ┆           ┆           ┆ 2716      ┆   ┆           ┆           ┆         ┆ 1T18:49:2 │\n",
       "│            ┆           ┆           ┆           ┆   ┆           ┆           ┆         ┆ 4.165Z    │\n",
       "└────────────┴───────────┴───────────┴───────────┴───┴───────────┴───────────┴─────────┴───────────┘"
      ]
     },
     "execution_count": 6,
     "metadata": {},
     "output_type": "execute_result"
    }
   ],
   "source": [
    "df = df.filter(\n",
    "    pl.col(\"player\") != \"null\"\n",
    ")\n",
    "df.head(2)"
   ]
  },
  {
   "cell_type": "code",
   "execution_count": 7,
   "metadata": {},
   "outputs": [
    {
     "data": {
      "text/html": [
       "<div><style>\n",
       ".dataframe > thead > tr,\n",
       ".dataframe > tbody > tr {\n",
       "  text-align: right;\n",
       "  white-space: pre-wrap;\n",
       "}\n",
       "</style>\n",
       "<small>shape: (5, 32)</small><table border=\"1\" class=\"dataframe\"><thead><tr><th>roundNumber</th><th>lat</th><th>lng</th><th>distance</th><th>time</th><th>score</th><th>wasCorrect</th><th>gameId</th><th>playerName</th><th>code</th><th>playerId</th><th>payload</th><th>timestamp</th><th>lobby</th><th>countryGuess</th><th>coordinateGuess</th><th>battleRoyaleGameState</th><th>battleRoyalePlayer</th><th>duel</th><th>bullseye</th><th>player</th><th>country_code</th><th>forbidMoving</th><th>forbidZooming</th><th>forbidRotating</th><th>roundCount</th><th>mapSlug</th><th>roundTime</th><th>isSinglePlayer</th><th>scoringType</th><th>context</th><th>date</th></tr><tr><td>i64</td><td>f64</td><td>f64</td><td>f64</td><td>i64</td><td>i64</td><td>bool</td><td>str</td><td>str</td><td>str</td><td>str</td><td>str</td><td>str</td><td>str</td><td>str</td><td>str</td><td>str</td><td>str</td><td>str</td><td>str</td><td>str</td><td>str</td><td>bool</td><td>bool</td><td>bool</td><td>i64</td><td>str</td><td>i64</td><td>bool</td><td>str</td><td>str</td><td>str</td></tr></thead><tbody><tr><td>1</td><td>56.764597</td><td>25.268669</td><td>866133.539355</td><td>23</td><td>2798</td><td>false</td><td>&quot;15202a19-bbf8-44fe-a670-6eb80c…</td><td>&quot;Ishenko01y&quot;</td><td>&quot;LiveChallengeLeaderboardUpdate&quot;</td><td>null</td><td>null</td><td>&quot;2024-08-20T10:16:05.1979398Z&quot;</td><td>null</td><td>null</td><td>null</td><td>null</td><td>null</td><td>null</td><td>null</td><td>&quot;Ishenko01y&quot;</td><td>&quot;LV&quot;</td><td>true</td><td>false</td><td>false</td><td>5</td><td>&quot;world&quot;</td><td>30</td><td>false</td><td>&quot;Unknown&quot;</td><td>&quot;&quot;</td><td>&quot;2024-08-20T10:19:12.127Z&quot;</td></tr><tr><td>3</td><td>51.47018</td><td>5.786652</td><td>117653.422716</td><td>40</td><td>4621</td><td>false</td><td>&quot;ea8d34ee-d2c9-4283-834e-f0438f…</td><td>&quot;moxxiq&quot;</td><td>&quot;LiveChallengeLeaderboardUpdate&quot;</td><td>null</td><td>null</td><td>&quot;2024-08-21T18:47:34.5599291Z&quot;</td><td>null</td><td>null</td><td>null</td><td>null</td><td>null</td><td>null</td><td>null</td><td>&quot;moxxiq&quot;</td><td>&quot;NL&quot;</td><td>true</td><td>false</td><td>false</td><td>5</td><td>&quot;world&quot;</td><td>40</td><td>false</td><td>&quot;Unknown&quot;</td><td>&quot;&quot;</td><td>&quot;2024-08-21T18:49:24.165Z&quot;</td></tr><tr><td>3</td><td>-34.665525</td><td>-58.416663</td><td>3.9950e6</td><td>34</td><td>343</td><td>false</td><td>&quot;2d460ac2-f967-420b-9867-cefe08…</td><td>&quot;Ishenko01y&quot;</td><td>&quot;LiveChallengeLeaderboardUpdate&quot;</td><td>null</td><td>null</td><td>&quot;2024-12-11T18:39:45.8073149Z&quot;</td><td>null</td><td>null</td><td>null</td><td>null</td><td>null</td><td>null</td><td>null</td><td>&quot;Ishenko01y&quot;</td><td>&quot;AR&quot;</td><td>true</td><td>false</td><td>false</td><td>5</td><td>&quot;world&quot;</td><td>40</td><td>false</td><td>&quot;Unknown&quot;</td><td>&quot;&quot;</td><td>&quot;2024-12-11T18:41:33.182Z&quot;</td></tr><tr><td>3</td><td>19.578293</td><td>-99.151366</td><td>2.3712e6</td><td>30</td><td>1020</td><td>false</td><td>&quot;db11058f-d91c-4cd5-a3ad-8d3b8a…</td><td>&quot;Gor Kosty&quot;</td><td>&quot;LiveChallengeLeaderboardUpdate&quot;</td><td>null</td><td>null</td><td>&quot;2024-08-06T12:52:02.2653343Z&quot;</td><td>null</td><td>null</td><td>null</td><td>null</td><td>null</td><td>null</td><td>null</td><td>&quot;Gor Kosty&quot;</td><td>&quot;MX&quot;</td><td>true</td><td>false</td><td>false</td><td>5</td><td>&quot;world&quot;</td><td>30</td><td>false</td><td>&quot;Unknown&quot;</td><td>&quot;&quot;</td><td>&quot;2024-08-06T12:53:34.518Z&quot;</td></tr><tr><td>5</td><td>-0.47805</td><td>30.281684</td><td>5.2261e6</td><td>34</td><td>150</td><td>false</td><td>&quot;89732294-59ba-4fd2-8115-ecf65e…</td><td>&quot;Ishenko01y&quot;</td><td>&quot;LiveChallengeLeaderboardUpdate&quot;</td><td>null</td><td>null</td><td>&quot;2024-08-13T18:27:24.2369503Z&quot;</td><td>null</td><td>null</td><td>null</td><td>null</td><td>null</td><td>null</td><td>null</td><td>&quot;Ishenko01y&quot;</td><td>&quot;UG&quot;</td><td>true</td><td>false</td><td>false</td><td>5</td><td>&quot;world&quot;</td><td>40</td><td>false</td><td>&quot;Unknown&quot;</td><td>&quot;&quot;</td><td>&quot;2024-08-13T18:27:22.707Z&quot;</td></tr></tbody></table></div>"
      ],
      "text/plain": [
       "shape: (5, 32)\n",
       "┌────────────┬───────────┬───────────┬───────────┬───┬───────────┬───────────┬─────────┬───────────┐\n",
       "│ roundNumbe ┆ lat       ┆ lng       ┆ distance  ┆ … ┆ isSingleP ┆ scoringTy ┆ context ┆ date      │\n",
       "│ r          ┆ ---       ┆ ---       ┆ ---       ┆   ┆ layer     ┆ pe        ┆ ---     ┆ ---       │\n",
       "│ ---        ┆ f64       ┆ f64       ┆ f64       ┆   ┆ ---       ┆ ---       ┆ str     ┆ str       │\n",
       "│ i64        ┆           ┆           ┆           ┆   ┆ bool      ┆ str       ┆         ┆           │\n",
       "╞════════════╪═══════════╪═══════════╪═══════════╪═══╪═══════════╪═══════════╪═════════╪═══════════╡\n",
       "│ 1          ┆ 56.764597 ┆ 25.268669 ┆ 866133.53 ┆ … ┆ false     ┆ Unknown   ┆         ┆ 2024-08-2 │\n",
       "│            ┆           ┆           ┆ 9355      ┆   ┆           ┆           ┆         ┆ 0T10:19:1 │\n",
       "│            ┆           ┆           ┆           ┆   ┆           ┆           ┆         ┆ 2.127Z    │\n",
       "│ 3          ┆ 51.47018  ┆ 5.786652  ┆ 117653.42 ┆ … ┆ false     ┆ Unknown   ┆         ┆ 2024-08-2 │\n",
       "│            ┆           ┆           ┆ 2716      ┆   ┆           ┆           ┆         ┆ 1T18:49:2 │\n",
       "│            ┆           ┆           ┆           ┆   ┆           ┆           ┆         ┆ 4.165Z    │\n",
       "│ 3          ┆ -34.66552 ┆ -58.41666 ┆ 3.9950e6  ┆ … ┆ false     ┆ Unknown   ┆         ┆ 2024-12-1 │\n",
       "│            ┆ 5         ┆ 3         ┆           ┆   ┆           ┆           ┆         ┆ 1T18:41:3 │\n",
       "│            ┆           ┆           ┆           ┆   ┆           ┆           ┆         ┆ 3.182Z    │\n",
       "│ 3          ┆ 19.578293 ┆ -99.15136 ┆ 2.3712e6  ┆ … ┆ false     ┆ Unknown   ┆         ┆ 2024-08-0 │\n",
       "│            ┆           ┆ 6         ┆           ┆   ┆           ┆           ┆         ┆ 6T12:53:3 │\n",
       "│            ┆           ┆           ┆           ┆   ┆           ┆           ┆         ┆ 4.518Z    │\n",
       "│ 5          ┆ -0.47805  ┆ 30.281684 ┆ 5.2261e6  ┆ … ┆ false     ┆ Unknown   ┆         ┆ 2024-08-1 │\n",
       "│            ┆           ┆           ┆           ┆   ┆           ┆           ┆         ┆ 3T18:27:2 │\n",
       "│            ┆           ┆           ┆           ┆   ┆           ┆           ┆         ┆ 2.707Z    │\n",
       "└────────────┴───────────┴───────────┴───────────┴───┴───────────┴───────────┴─────────┴───────────┘"
      ]
     },
     "execution_count": 7,
     "metadata": {},
     "output_type": "execute_result"
    }
   ],
   "source": [
    "df = df.filter(pl.col(\"roundCount\") == 5)\n",
    "df.head()"
   ]
  },
  {
   "cell_type": "code",
   "execution_count": 8,
   "metadata": {},
   "outputs": [
    {
     "data": {
      "text/html": [
       "<div><style>\n",
       ".dataframe > thead > tr,\n",
       ".dataframe > tbody > tr {\n",
       "  text-align: right;\n",
       "  white-space: pre-wrap;\n",
       "}\n",
       "</style>\n",
       "<small>shape: (2, 5)</small><table border=\"1\" class=\"dataframe\"><thead><tr><th>gameId</th><th>player</th><th>mapSlug</th><th>score</th><th>roundNumber</th></tr><tr><td>str</td><td>str</td><td>str</td><td>i64</td><td>i64</td></tr></thead><tbody><tr><td>&quot;53519444-068a-438c-b969-1e718e…</td><td>&quot;OldSchool&quot;</td><td>&quot;world&quot;</td><td>13865</td><td>5</td></tr><tr><td>&quot;72f8b221-ef0f-41d4-9eda-9597d1…</td><td>&quot;OldSchool&quot;</td><td>&quot;world&quot;</td><td>7287</td><td>5</td></tr></tbody></table></div>"
      ],
      "text/plain": [
       "shape: (2, 5)\n",
       "┌─────────────────────────────────┬───────────┬─────────┬───────┬─────────────┐\n",
       "│ gameId                          ┆ player    ┆ mapSlug ┆ score ┆ roundNumber │\n",
       "│ ---                             ┆ ---       ┆ ---     ┆ ---   ┆ ---         │\n",
       "│ str                             ┆ str       ┆ str     ┆ i64   ┆ i64         │\n",
       "╞═════════════════════════════════╪═══════════╪═════════╪═══════╪═════════════╡\n",
       "│ 53519444-068a-438c-b969-1e718e… ┆ OldSchool ┆ world   ┆ 13865 ┆ 5           │\n",
       "│ 72f8b221-ef0f-41d4-9eda-9597d1… ┆ OldSchool ┆ world   ┆ 7287  ┆ 5           │\n",
       "└─────────────────────────────────┴───────────┴─────────┴───────┴─────────────┘"
      ]
     },
     "execution_count": 8,
     "metadata": {},
     "output_type": "execute_result"
    }
   ],
   "source": [
    "df = df[[\"roundNumber\", \"gameId\", \"mapSlug\", \"player\", \"score\"]].group_by(\n",
    "    [\"gameId\", \"player\", \"mapSlug\"]\n",
    ").agg(pl.col(\"score\").sum(), pl.col(\"roundNumber\").max())\n",
    "df.head(2)"
   ]
  },
  {
   "cell_type": "code",
   "execution_count": 9,
   "metadata": {},
   "outputs": [
    {
     "name": "stdout",
     "output_type": "stream",
     "text": [
      "world\n",
      "shape: (5, 5)\n",
      "┌─────────────────────────────────┬──────────────┬─────────┬───────┬─────────────┐\n",
      "│ gameId                          ┆ player       ┆ mapSlug ┆ score ┆ roundNumber │\n",
      "│ ---                             ┆ ---          ┆ ---     ┆ ---   ┆ ---         │\n",
      "│ str                             ┆ str          ┆ str     ┆ i64   ┆ i64         │\n",
      "╞═════════════════════════════════╪══════════════╪═════════╪═══════╪═════════════╡\n",
      "│ a6129ee1-3821-451e-8bb1-6b2286… ┆ Gor Kosty    ┆ world   ┆ 24122 ┆ 5           │\n",
      "│ 2dbea22f-605f-41b2-8489-9030a0… ┆ Demaga Chill ┆ world   ┆ 23450 ┆ 5           │\n",
      "│ 23488d39-4a9e-416a-a30f-aec1e3… ┆ Ishenko01y   ┆ world   ┆ 23398 ┆ 5           │\n",
      "│ f5aef1e7-8c07-4d34-a227-c59ecb… ┆ Ishenko01y   ┆ world   ┆ 23336 ┆ 5           │\n",
      "│ 673505ab-cd08-4323-a728-e0c59f… ┆ Demaga Chill ┆ world   ┆ 22902 ┆ 5           │\n",
      "└─────────────────────────────────┴──────────────┴─────────┴───────┴─────────────┘\n",
      "GeoDetective\n",
      "shape: (5, 5)\n",
      "┌─────────────────────────────────┬──────────────┬──────────────┬───────┬─────────────┐\n",
      "│ gameId                          ┆ player       ┆ mapSlug      ┆ score ┆ roundNumber │\n",
      "│ ---                             ┆ ---          ┆ ---          ┆ ---   ┆ ---         │\n",
      "│ str                             ┆ str          ┆ str          ┆ i64   ┆ i64         │\n",
      "╞═════════════════════════════════╪══════════════╪══════════════╪═══════╪═════════════╡\n",
      "│ 86573c1c-f176-44f5-95c3-0c4438… ┆ Demaga Chill ┆ GeoDetective ┆ 21878 ┆ 5           │\n",
      "│ 58da726d-fbef-44ab-bfa4-f0e0c6… ┆ San4inazes   ┆ GeoDetective ┆ 21416 ┆ 5           │\n",
      "│ b72beaca-bc9b-45d1-812c-3d38fe… ┆ San4inazes   ┆ GeoDetective ┆ 21398 ┆ 5           │\n",
      "│ a8c1f18a-7ecb-4f3b-b2c5-6eb503… ┆ Demaga Chill ┆ GeoDetective ┆ 21324 ┆ 5           │\n",
      "│ b72beaca-bc9b-45d1-812c-3d38fe… ┆ Demaga Chill ┆ GeoDetective ┆ 21268 ┆ 5           │\n",
      "└─────────────────────────────────┴──────────────┴──────────────┴───────┴─────────────┘\n",
      "5ad0b0cb2a3e0d4da46cc44c\n",
      "shape: (5, 5)\n",
      "┌─────────────────────────────────┬──────────────┬──────────────────────────┬───────┬─────────────┐\n",
      "│ gameId                          ┆ player       ┆ mapSlug                  ┆ score ┆ roundNumber │\n",
      "│ ---                             ┆ ---          ┆ ---                      ┆ ---   ┆ ---         │\n",
      "│ str                             ┆ str          ┆ str                      ┆ i64   ┆ i64         │\n",
      "╞═════════════════════════════════╪══════════════╪══════════════════════════╪═══════╪═════════════╡\n",
      "│ 1124176c-f0b5-4992-9c4e-b90c44… ┆ Demaga Chill ┆ 5ad0b0cb2a3e0d4da46cc44c ┆ 16454 ┆ 5           │\n",
      "│ 1124176c-f0b5-4992-9c4e-b90c44… ┆ Ishenko01y   ┆ 5ad0b0cb2a3e0d4da46cc44c ┆ 16400 ┆ 5           │\n",
      "│ 1124176c-f0b5-4992-9c4e-b90c44… ┆ Din Lester   ┆ 5ad0b0cb2a3e0d4da46cc44c ┆ 14561 ┆ 5           │\n",
      "│ bb98b46f-d9c4-4f3b-a316-6d91b7… ┆ Ishenko01y   ┆ 5ad0b0cb2a3e0d4da46cc44c ┆ 14297 ┆ 5           │\n",
      "│ 1124176c-f0b5-4992-9c4e-b90c44… ┆ ZAKA         ┆ 5ad0b0cb2a3e0d4da46cc44c ┆ 13604 ┆ 5           │\n",
      "└─────────────────────────────────┴──────────────┴──────────────────────────┴───────┴─────────────┘\n",
      "6029991c5048850001d572a9\n",
      "shape: (5, 5)\n",
      "┌─────────────────────────────────┬──────────────┬──────────────────────────┬───────┬─────────────┐\n",
      "│ gameId                          ┆ player       ┆ mapSlug                  ┆ score ┆ roundNumber │\n",
      "│ ---                             ┆ ---          ┆ ---                      ┆ ---   ┆ ---         │\n",
      "│ str                             ┆ str          ┆ str                      ┆ i64   ┆ i64         │\n",
      "╞═════════════════════════════════╪══════════════╪══════════════════════════╪═══════╪═════════════╡\n",
      "│ 6c059d4e-d72f-4f55-a168-fd00f4… ┆ San4inazes   ┆ 6029991c5048850001d572a9 ┆ 22831 ┆ 5           │\n",
      "│ 6c059d4e-d72f-4f55-a168-fd00f4… ┆ Ishenko01y   ┆ 6029991c5048850001d572a9 ┆ 22736 ┆ 5           │\n",
      "│ 6c059d4e-d72f-4f55-a168-fd00f4… ┆ Demaga Chill ┆ 6029991c5048850001d572a9 ┆ 21866 ┆ 5           │\n",
      "│ 2b530a33-3bce-451b-b085-791124… ┆ San4inazes   ┆ 6029991c5048850001d572a9 ┆ 18113 ┆ 5           │\n",
      "│ 2b530a33-3bce-451b-b085-791124… ┆ Ishenko01y   ┆ 6029991c5048850001d572a9 ┆ 16729 ┆ 5           │\n",
      "└─────────────────────────────────┴──────────────┴──────────────────────────┴───────┴─────────────┘\n",
      "57357d9f77abe957e8cfd15f\n",
      "shape: (5, 5)\n",
      "┌─────────────────────────────────┬──────────────┬──────────────────────────┬───────┬─────────────┐\n",
      "│ gameId                          ┆ player       ┆ mapSlug                  ┆ score ┆ roundNumber │\n",
      "│ ---                             ┆ ---          ┆ ---                      ┆ ---   ┆ ---         │\n",
      "│ str                             ┆ str          ┆ str                      ┆ i64   ┆ i64         │\n",
      "╞═════════════════════════════════╪══════════════╪══════════════════════════╪═══════╪═════════════╡\n",
      "│ 35a72c4d-c2c6-46ed-977e-e891e4… ┆ Ishenko01y   ┆ 57357d9f77abe957e8cfd15f ┆ 24999 ┆ 5           │\n",
      "│ d017f9d6-d6e4-4360-b66d-b1ee0f… ┆ Ishenko01y   ┆ 57357d9f77abe957e8cfd15f ┆ 24996 ┆ 5           │\n",
      "│ 35a72c4d-c2c6-46ed-977e-e891e4… ┆ Demaga Chill ┆ 57357d9f77abe957e8cfd15f ┆ 24957 ┆ 5           │\n",
      "│ 35a72c4d-c2c6-46ed-977e-e891e4… ┆ San4i        ┆ 57357d9f77abe957e8cfd15f ┆ 24932 ┆ 5           │\n",
      "│ d017f9d6-d6e4-4360-b66d-b1ee0f… ┆ Din Lester   ┆ 57357d9f77abe957e8cfd15f ┆ 24921 ┆ 5           │\n",
      "└─────────────────────────────────┴──────────────┴──────────────────────────┴───────┴─────────────┘\n",
      "60de2a8a81b92c00015f29e1\n",
      "shape: (5, 5)\n",
      "┌─────────────────────────────────┬──────────────┬──────────────────────────┬───────┬─────────────┐\n",
      "│ gameId                          ┆ player       ┆ mapSlug                  ┆ score ┆ roundNumber │\n",
      "│ ---                             ┆ ---          ┆ ---                      ┆ ---   ┆ ---         │\n",
      "│ str                             ┆ str          ┆ str                      ┆ i64   ┆ i64         │\n",
      "╞═════════════════════════════════╪══════════════╪══════════════════════════╪═══════╪═════════════╡\n",
      "│ 1ba191d9-c9cb-4743-bd29-f45d06… ┆ Demaga Chill ┆ 60de2a8a81b92c00015f29e1 ┆ 20045 ┆ 5           │\n",
      "│ 1ba191d9-c9cb-4743-bd29-f45d06… ┆ Din Lester   ┆ 60de2a8a81b92c00015f29e1 ┆ 18810 ┆ 5           │\n",
      "│ 791c4115-a6a4-44f1-b771-d2e3f1… ┆ Demaga Chill ┆ 60de2a8a81b92c00015f29e1 ┆ 14750 ┆ 5           │\n",
      "│ 1ba191d9-c9cb-4743-bd29-f45d06… ┆ San4inazes   ┆ 60de2a8a81b92c00015f29e1 ┆ 14282 ┆ 5           │\n",
      "│ 1ba191d9-c9cb-4743-bd29-f45d06… ┆ Ishenko01y   ┆ 60de2a8a81b92c00015f29e1 ┆ 14130 ┆ 5           │\n",
      "└─────────────────────────────────┴──────────────┴──────────────────────────┴───────┴─────────────┘\n",
      "61a1846aee665b00016680ce\n",
      "shape: (5, 5)\n",
      "┌─────────────────────────────────┬──────────────┬──────────────────────────┬───────┬─────────────┐\n",
      "│ gameId                          ┆ player       ┆ mapSlug                  ┆ score ┆ roundNumber │\n",
      "│ ---                             ┆ ---          ┆ ---                      ┆ ---   ┆ ---         │\n",
      "│ str                             ┆ str          ┆ str                      ┆ i64   ┆ i64         │\n",
      "╞═════════════════════════════════╪══════════════╪══════════════════════════╪═══════╪═════════════╡\n",
      "│ cd682ea0-07e2-4c66-8dc9-260082… ┆ Din Lester   ┆ 61a1846aee665b00016680ce ┆ 17144 ┆ 5           │\n",
      "│ cd682ea0-07e2-4c66-8dc9-260082… ┆ Ishenko01y   ┆ 61a1846aee665b00016680ce ┆ 16492 ┆ 5           │\n",
      "│ cd682ea0-07e2-4c66-8dc9-260082… ┆ San4inazes   ┆ 61a1846aee665b00016680ce ┆ 16412 ┆ 5           │\n",
      "│ cd682ea0-07e2-4c66-8dc9-260082… ┆ OldSchool    ┆ 61a1846aee665b00016680ce ┆ 16281 ┆ 5           │\n",
      "│ cd682ea0-07e2-4c66-8dc9-260082… ┆ Demaga Chill ┆ 61a1846aee665b00016680ce ┆ 16008 ┆ 5           │\n",
      "└─────────────────────────────────┴──────────────┴──────────────────────────┴───────┴─────────────┘\n",
      "61ea4e1d4356b500014cdc8d\n",
      "shape: (5, 5)\n",
      "┌─────────────────────────────────┬──────────────┬──────────────────────────┬───────┬─────────────┐\n",
      "│ gameId                          ┆ player       ┆ mapSlug                  ┆ score ┆ roundNumber │\n",
      "│ ---                             ┆ ---          ┆ ---                      ┆ ---   ┆ ---         │\n",
      "│ str                             ┆ str          ┆ str                      ┆ i64   ┆ i64         │\n",
      "╞═════════════════════════════════╪══════════════╪══════════════════════════╪═══════╪═════════════╡\n",
      "│ 51260b7c-2600-4529-9162-272a12… ┆ Din Lester   ┆ 61ea4e1d4356b500014cdc8d ┆ 15932 ┆ 5           │\n",
      "│ 51260b7c-2600-4529-9162-272a12… ┆ ZAKA         ┆ 61ea4e1d4356b500014cdc8d ┆ 12688 ┆ 5           │\n",
      "│ 51260b7c-2600-4529-9162-272a12… ┆ Demaga Chill ┆ 61ea4e1d4356b500014cdc8d ┆ 11428 ┆ 5           │\n",
      "│ 51260b7c-2600-4529-9162-272a12… ┆ moxxiq       ┆ 61ea4e1d4356b500014cdc8d ┆ 10290 ┆ 5           │\n",
      "│ 51260b7c-2600-4529-9162-272a12… ┆ San4inazes   ┆ 61ea4e1d4356b500014cdc8d ┆ 10264 ┆ 5           │\n",
      "└─────────────────────────────────┴──────────────┴──────────────────────────┴───────┴─────────────┘\n",
      "5d0ce72c8b19a91fe05aa7a8\n",
      "shape: (5, 5)\n",
      "┌─────────────────────────────────┬──────────────┬──────────────────────────┬───────┬─────────────┐\n",
      "│ gameId                          ┆ player       ┆ mapSlug                  ┆ score ┆ roundNumber │\n",
      "│ ---                             ┆ ---          ┆ ---                      ┆ ---   ┆ ---         │\n",
      "│ str                             ┆ str          ┆ str                      ┆ i64   ┆ i64         │\n",
      "╞═════════════════════════════════╪══════════════╪══════════════════════════╪═══════╪═════════════╡\n",
      "│ 7ab9abc6-5193-4015-b656-90dc56… ┆ Ishenko01y   ┆ 5d0ce72c8b19a91fe05aa7a8 ┆ 19603 ┆ 5           │\n",
      "│ 7ab9abc6-5193-4015-b656-90dc56… ┆ San4i        ┆ 5d0ce72c8b19a91fe05aa7a8 ┆ 13755 ┆ 5           │\n",
      "│ 7ab9abc6-5193-4015-b656-90dc56… ┆ Demaga Chill ┆ 5d0ce72c8b19a91fe05aa7a8 ┆ 9437  ┆ 5           │\n",
      "│ 7ab9abc6-5193-4015-b656-90dc56… ┆ moxxiq       ┆ 5d0ce72c8b19a91fe05aa7a8 ┆ 6514  ┆ 5           │\n",
      "│ 7ab9abc6-5193-4015-b656-90dc56… ┆ Roditeli     ┆ 5d0ce72c8b19a91fe05aa7a8 ┆ 3643  ┆ 4           │\n",
      "└─────────────────────────────────┴──────────────┴──────────────────────────┴───────┴─────────────┘\n",
      "5cfda2c9bc79e16dd866104d\n",
      "shape: (5, 5)\n",
      "┌─────────────────────────────────┬──────────────┬──────────────────────────┬───────┬─────────────┐\n",
      "│ gameId                          ┆ player       ┆ mapSlug                  ┆ score ┆ roundNumber │\n",
      "│ ---                             ┆ ---          ┆ ---                      ┆ ---   ┆ ---         │\n",
      "│ str                             ┆ str          ┆ str                      ┆ i64   ┆ i64         │\n",
      "╞═════════════════════════════════╪══════════════╪══════════════════════════╪═══════╪═════════════╡\n",
      "│ e5e46199-4cb3-412b-940d-b08fa4… ┆ Ishenko01y   ┆ 5cfda2c9bc79e16dd866104d ┆ 21049 ┆ 5           │\n",
      "│ e5e46199-4cb3-412b-940d-b08fa4… ┆ Demaga Chill ┆ 5cfda2c9bc79e16dd866104d ┆ 20257 ┆ 5           │\n",
      "│ e5e46199-4cb3-412b-940d-b08fa4… ┆ San4inazes   ┆ 5cfda2c9bc79e16dd866104d ┆ 13982 ┆ 5           │\n",
      "│ e5e46199-4cb3-412b-940d-b08fa4… ┆ Din Lester   ┆ 5cfda2c9bc79e16dd866104d ┆ 12791 ┆ 5           │\n",
      "│ e5e46199-4cb3-412b-940d-b08fa4… ┆ OldSchool    ┆ 5cfda2c9bc79e16dd866104d ┆ 12592 ┆ 5           │\n",
      "└─────────────────────────────────┴──────────────┴──────────────────────────┴───────┴─────────────┘\n"
     ]
    }
   ],
   "source": [
    "for map in df[\"mapSlug\"].value_counts(sort=True)[\"mapSlug\"]:\n",
    "    print(map)\n",
    "    top_scores = df.filter(pl.col(\"mapSlug\") == map).sort(by=\"score\", descending=True)[:5].clone()\n",
    "    if top_scores.shape[0] > 0:\n",
    "        print(top_scores)"
   ]
  }
 ],
 "metadata": {
  "kernelspec": {
   "display_name": "geoguessr-stats-analysis",
   "language": "python",
   "name": "python3"
  },
  "language_info": {
   "codemirror_mode": {
    "name": "ipython",
    "version": 3
   },
   "file_extension": ".py",
   "mimetype": "text/x-python",
   "name": "python",
   "nbconvert_exporter": "python",
   "pygments_lexer": "ipython3",
   "version": "3.12.4"
  }
 },
 "nbformat": 4,
 "nbformat_minor": 2
}
