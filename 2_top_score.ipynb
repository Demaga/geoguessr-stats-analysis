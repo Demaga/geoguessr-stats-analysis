{
 "cells": [
  {
   "cell_type": "code",
   "execution_count": null,
   "metadata": {},
   "outputs": [],
   "source": [
    "from datetime import datetime\n",
    "import pandas as pd\n",
    "pd.set_option(\"display.max_columns\", None)\n",
    "pd.set_option(\"display.max_rows\", None)"
   ]
  },
  {
   "cell_type": "code",
   "execution_count": null,
   "metadata": {},
   "outputs": [],
   "source": [
    "START_DATE = \"2024-01-17\"\n",
    "END_DATE = \"2025-01-01\""
   ]
  },
  {
   "cell_type": "code",
   "execution_count": null,
   "metadata": {},
   "outputs": [],
   "source": [
    "df = pd.read_csv(\"gdf.csv\")\n",
    "print(df.shape)\n",
    "df.head(1)"
   ]
  },
  {
   "cell_type": "code",
   "execution_count": null,
   "metadata": {},
   "outputs": [],
   "source": [
    "df = df[(df[\"timestamp\"] >= START_DATE) & (df[\"timestamp\"] <= END_DATE)]\n",
    "df = df[df[\"map\"] == \"world\"]\n",
    "df.shape"
   ]
  },
  {
   "cell_type": "code",
   "execution_count": null,
   "metadata": {},
   "outputs": [],
   "source": [
    "df[\"date\"] = df[\"timestamp\"].apply(lambda x: datetime.fromisoformat(x).date())\n",
    "df.head(1)"
   ]
  },
  {
   "cell_type": "code",
   "execution_count": null,
   "metadata": {},
   "outputs": [],
   "source": [
    "grouped = df[[\"date\", \"gameId\", \"player\", \"score\", \"countryAnswer\"]].groupby(by=[\"date\", \"gameId\", \"player\"])\n",
    "# Calculate sum of scores and count of records\n",
    "result = grouped.agg(total_score=(\"score\", \"sum\"), record_count=(\"score\", \"count\"), countries=(\"countryAnswer\", ', '.join))\n",
    "# Filter out records with less than 5 counts\n",
    "filtered_result = result[result[\"record_count\"] == 5].drop(columns=\"record_count\")\n",
    "filtered_result.sort_values(by=[\"total_score\", \"date\"], ascending=False)"
   ]
  }
 ],
 "metadata": {
  "kernelspec": {
   "display_name": "Python 3",
   "language": "python",
   "name": "python3"
  },
  "language_info": {
   "codemirror_mode": {
    "name": "ipython",
    "version": 3
   },
   "file_extension": ".py",
   "mimetype": "text/x-python",
   "name": "python",
   "nbconvert_exporter": "python",
   "pygments_lexer": "ipython3",
   "version": "3.11.5"
  }
 },
 "nbformat": 4,
 "nbformat_minor": 2
}
