{
 "cells": [
  {
   "cell_type": "code",
   "execution_count": 1,
   "metadata": {},
   "outputs": [],
   "source": [
    "import polars as pl"
   ]
  },
  {
   "cell_type": "code",
   "execution_count": 4,
   "metadata": {},
   "outputs": [
    {
     "data": {
      "text/html": [
       "<div><style>\n",
       ".dataframe > thead > tr,\n",
       ".dataframe > tbody > tr {\n",
       "  text-align: right;\n",
       "  white-space: pre-wrap;\n",
       "}\n",
       "</style>\n",
       "<small>shape: (2, 11)</small><table border=\"1\" class=\"dataframe\"><thead><tr><th>game_id</th><th>forbidMoving</th><th>forbidZooming</th><th>forbidRotating</th><th>roundCount</th><th>mapSlug</th><th>roundTime</th><th>isSinglePlayer</th><th>scoringType</th><th>context</th><th>date</th></tr><tr><td>str</td><td>bool</td><td>bool</td><td>bool</td><td>i64</td><td>str</td><td>i64</td><td>bool</td><td>str</td><td>str</td><td>str</td></tr></thead><tbody><tr><td>&quot;43b82fcf-29d8-4daf-84e9-80e029…</td><td>true</td><td>false</td><td>false</td><td>5</td><td>&quot;world&quot;</td><td>40</td><td>false</td><td>&quot;Unknown&quot;</td><td>&quot;&quot;</td><td>&quot;2024-10-30T18:06:54.013Z&quot;</td></tr><tr><td>&quot;14cf63a7-1289-4b09-9ab8-75eb4f…</td><td>true</td><td>false</td><td>false</td><td>5</td><td>&quot;world&quot;</td><td>40</td><td>false</td><td>&quot;Unknown&quot;</td><td>&quot;&quot;</td><td>&quot;2024-10-30T18:11:55.588Z&quot;</td></tr></tbody></table></div>"
      ],
      "text/plain": [
       "shape: (2, 11)\n",
       "┌────────────┬───────────┬───────────┬───────────┬───┬───────────┬───────────┬─────────┬───────────┐\n",
       "│ game_id    ┆ forbidMov ┆ forbidZoo ┆ forbidRot ┆ … ┆ isSingleP ┆ scoringTy ┆ context ┆ date      │\n",
       "│ ---        ┆ ing       ┆ ming      ┆ ating     ┆   ┆ layer     ┆ pe        ┆ ---     ┆ ---       │\n",
       "│ str        ┆ ---       ┆ ---       ┆ ---       ┆   ┆ ---       ┆ ---       ┆ str     ┆ str       │\n",
       "│            ┆ bool      ┆ bool      ┆ bool      ┆   ┆ bool      ┆ str       ┆         ┆           │\n",
       "╞════════════╪═══════════╪═══════════╪═══════════╪═══╪═══════════╪═══════════╪═════════╪═══════════╡\n",
       "│ 43b82fcf-2 ┆ true      ┆ false     ┆ false     ┆ … ┆ false     ┆ Unknown   ┆         ┆ 2024-10-3 │\n",
       "│ 9d8-4daf-8 ┆           ┆           ┆           ┆   ┆           ┆           ┆         ┆ 0T18:06:5 │\n",
       "│ 4e9-80e029 ┆           ┆           ┆           ┆   ┆           ┆           ┆         ┆ 4.013Z    │\n",
       "│ …          ┆           ┆           ┆           ┆   ┆           ┆           ┆         ┆           │\n",
       "│ 14cf63a7-1 ┆ true      ┆ false     ┆ false     ┆ … ┆ false     ┆ Unknown   ┆         ┆ 2024-10-3 │\n",
       "│ 289-4b09-9 ┆           ┆           ┆           ┆   ┆           ┆           ┆         ┆ 0T18:11:5 │\n",
       "│ ab8-75eb4f ┆           ┆           ┆           ┆   ┆           ┆           ┆         ┆ 5.588Z    │\n",
       "│ …          ┆           ┆           ┆           ┆   ┆           ┆           ┆         ┆           │\n",
       "└────────────┴───────────┴───────────┴───────────┴───┴───────────┴───────────┴─────────┴───────────┘"
      ]
     },
     "execution_count": 4,
     "metadata": {},
     "output_type": "execute_result"
    }
   ],
   "source": [
    "games_df = pl.read_csv(\"games_df.csv\")\n",
    "games_df = games_df.filter(\n",
    "    (pl.col(\"forbidMoving\") == True)\n",
    "    & (pl.col(\"forbidZooming\") == False)\n",
    "    & (pl.col(\"forbidRotating\") == False)\n",
    "    & (pl.col(\"roundCount\") == 5)\n",
    "    & (pl.col(\"roundTime\") == 40)\n",
    "    & (pl.col(\"mapSlug\") == \"world\")\n",
    ")\n",
    "games_df.head(2)"
   ]
  },
  {
   "cell_type": "code",
   "execution_count": 8,
   "metadata": {},
   "outputs": [
    {
     "data": {
      "text/html": [
       "<div><style>\n",
       ".dataframe > thead > tr,\n",
       ".dataframe > tbody > tr {\n",
       "  text-align: right;\n",
       "  white-space: pre-wrap;\n",
       "}\n",
       "</style>\n",
       "<small>shape: (2, 5)</small><table border=\"1\" class=\"dataframe\"><thead><tr><th>gameId</th><th>roundNumber</th><th>lat</th><th>lng</th><th>country_code</th></tr><tr><td>str</td><td>i64</td><td>f64</td><td>f64</td><td>str</td></tr></thead><tbody><tr><td>&quot;43b82fcf-29d8-4daf-84e9-80e029…</td><td>1</td><td>37.604549</td><td>126.933647</td><td>&quot;KR&quot;</td></tr><tr><td>&quot;43b82fcf-29d8-4daf-84e9-80e029…</td><td>2</td><td>55.926456</td><td>-4.126496</td><td>&quot;GB&quot;</td></tr></tbody></table></div>"
      ],
      "text/plain": [
       "shape: (2, 5)\n",
       "┌─────────────────────────────────┬─────────────┬───────────┬────────────┬──────────────┐\n",
       "│ gameId                          ┆ roundNumber ┆ lat       ┆ lng        ┆ country_code │\n",
       "│ ---                             ┆ ---         ┆ ---       ┆ ---        ┆ ---          │\n",
       "│ str                             ┆ i64         ┆ f64       ┆ f64        ┆ str          │\n",
       "╞═════════════════════════════════╪═════════════╪═══════════╪════════════╪══════════════╡\n",
       "│ 43b82fcf-29d8-4daf-84e9-80e029… ┆ 1           ┆ 37.604549 ┆ 126.933647 ┆ KR           │\n",
       "│ 43b82fcf-29d8-4daf-84e9-80e029… ┆ 2           ┆ 55.926456 ┆ -4.126496  ┆ GB           │\n",
       "└─────────────────────────────────┴─────────────┴───────────┴────────────┴──────────────┘"
      ]
     },
     "execution_count": 8,
     "metadata": {},
     "output_type": "execute_result"
    }
   ],
   "source": [
    "answers_df = pl.read_csv(\"answers_df.csv\")\n",
    "answers_df = answers_df.filter(\n",
    "    pl.col(\"gameId\").is_in(games_df[\"game_id\"].unique())\n",
    ")\n",
    "answers_df.head(2)"
   ]
  },
  {
   "cell_type": "code",
   "execution_count": 6,
   "metadata": {},
   "outputs": [
    {
     "data": {
      "text/html": [
       "<div><style>\n",
       ".dataframe > thead > tr,\n",
       ".dataframe > tbody > tr {\n",
       "  text-align: right;\n",
       "  white-space: pre-wrap;\n",
       "}\n",
       "</style>\n",
       "<small>shape: (2, 22)</small><table border=\"1\" class=\"dataframe\"><thead><tr><th>roundNumber</th><th>lat</th><th>lng</th><th>distance</th><th>time</th><th>score</th><th>wasCorrect</th><th>gameId</th><th>playerName</th><th>code</th><th>playerId</th><th>payload</th><th>timestamp</th><th>lobby</th><th>countryGuess</th><th>coordinateGuess</th><th>battleRoyaleGameState</th><th>battleRoyalePlayer</th><th>duel</th><th>bullseye</th><th>player</th><th>country_code</th></tr><tr><td>i64</td><td>f64</td><td>f64</td><td>f64</td><td>i64</td><td>i64</td><td>bool</td><td>str</td><td>str</td><td>str</td><td>str</td><td>str</td><td>str</td><td>str</td><td>str</td><td>str</td><td>str</td><td>str</td><td>str</td><td>str</td><td>str</td><td>str</td></tr></thead><tbody><tr><td>3</td><td>51.47018</td><td>5.786652</td><td>117653.422716</td><td>40</td><td>4621</td><td>false</td><td>&quot;ea8d34ee-d2c9-4283-834e-f0438f…</td><td>&quot;moxxiq&quot;</td><td>&quot;LiveChallengeLeaderboardUpdate&quot;</td><td>null</td><td>null</td><td>&quot;2024-08-21T18:47:34.5599291Z&quot;</td><td>null</td><td>null</td><td>null</td><td>null</td><td>null</td><td>null</td><td>null</td><td>&quot;moxxiq&quot;</td><td>&quot;NL&quot;</td></tr><tr><td>3</td><td>-34.665525</td><td>-58.416663</td><td>3.9950e6</td><td>34</td><td>343</td><td>false</td><td>&quot;2d460ac2-f967-420b-9867-cefe08…</td><td>&quot;Ishenko01y&quot;</td><td>&quot;LiveChallengeLeaderboardUpdate&quot;</td><td>null</td><td>null</td><td>&quot;2024-12-11T18:39:45.8073149Z&quot;</td><td>null</td><td>null</td><td>null</td><td>null</td><td>null</td><td>null</td><td>null</td><td>&quot;Ishenko01y&quot;</td><td>&quot;AR&quot;</td></tr></tbody></table></div>"
      ],
      "text/plain": [
       "shape: (2, 22)\n",
       "┌────────────┬────────────┬────────────┬────────────┬───┬──────┬──────────┬────────────┬───────────┐\n",
       "│ roundNumbe ┆ lat        ┆ lng        ┆ distance   ┆ … ┆ duel ┆ bullseye ┆ player     ┆ country_c │\n",
       "│ r          ┆ ---        ┆ ---        ┆ ---        ┆   ┆ ---  ┆ ---      ┆ ---        ┆ ode       │\n",
       "│ ---        ┆ f64        ┆ f64        ┆ f64        ┆   ┆ str  ┆ str      ┆ str        ┆ ---       │\n",
       "│ i64        ┆            ┆            ┆            ┆   ┆      ┆          ┆            ┆ str       │\n",
       "╞════════════╪════════════╪════════════╪════════════╪═══╪══════╪══════════╪════════════╪═══════════╡\n",
       "│ 3          ┆ 51.47018   ┆ 5.786652   ┆ 117653.422 ┆ … ┆ null ┆ null     ┆ moxxiq     ┆ NL        │\n",
       "│            ┆            ┆            ┆ 716        ┆   ┆      ┆          ┆            ┆           │\n",
       "│ 3          ┆ -34.665525 ┆ -58.416663 ┆ 3.9950e6   ┆ … ┆ null ┆ null     ┆ Ishenko01y ┆ AR        │\n",
       "└────────────┴────────────┴────────────┴────────────┴───┴──────┴──────────┴────────────┴───────────┘"
      ]
     },
     "execution_count": 6,
     "metadata": {},
     "output_type": "execute_result"
    }
   ],
   "source": [
    "guesses_df = pl.read_csv(\"guesses_df.csv\")\n",
    "guesses_df = guesses_df.filter(\n",
    "    pl.col(\"gameId\").is_in(games_df[\"game_id\"].unique())\n",
    ")\n",
    "guesses_df.head(2)"
   ]
  },
  {
   "cell_type": "code",
   "execution_count": 11,
   "metadata": {},
   "outputs": [
    {
     "data": {
      "text/html": [
       "<div><style>\n",
       ".dataframe > thead > tr,\n",
       ".dataframe > tbody > tr {\n",
       "  text-align: right;\n",
       "  white-space: pre-wrap;\n",
       "}\n",
       "</style>\n",
       "<small>shape: (2, 4)</small><table border=\"1\" class=\"dataframe\"><thead><tr><th>gameId</th><th>roundNumber</th><th>country_code</th><th>country_code_answer</th></tr><tr><td>str</td><td>i64</td><td>str</td><td>str</td></tr></thead><tbody><tr><td>&quot;ea8d34ee-d2c9-4283-834e-f0438f…</td><td>3</td><td>&quot;NL&quot;</td><td>&quot;NL&quot;</td></tr><tr><td>&quot;2d460ac2-f967-420b-9867-cefe08…</td><td>3</td><td>&quot;AR&quot;</td><td>&quot;PE&quot;</td></tr></tbody></table></div>"
      ],
      "text/plain": [
       "shape: (2, 4)\n",
       "┌─────────────────────────────────┬─────────────┬──────────────┬─────────────────────┐\n",
       "│ gameId                          ┆ roundNumber ┆ country_code ┆ country_code_answer │\n",
       "│ ---                             ┆ ---         ┆ ---          ┆ ---                 │\n",
       "│ str                             ┆ i64         ┆ str          ┆ str                 │\n",
       "╞═════════════════════════════════╪═════════════╪══════════════╪═════════════════════╡\n",
       "│ ea8d34ee-d2c9-4283-834e-f0438f… ┆ 3           ┆ NL           ┆ NL                  │\n",
       "│ 2d460ac2-f967-420b-9867-cefe08… ┆ 3           ┆ AR           ┆ PE                  │\n",
       "└─────────────────────────────────┴─────────────┴──────────────┴─────────────────────┘"
      ]
     },
     "execution_count": 11,
     "metadata": {},
     "output_type": "execute_result"
    }
   ],
   "source": [
    "cols = [\"gameId\", \"roundNumber\", \"country_code\"]\n",
    "df = guesses_df[cols].join(answers_df[cols], on=[\"gameId\", \"roundNumber\"], suffix=\"_answer\")\n",
    "df.head(2)"
   ]
  },
  {
   "cell_type": "code",
   "execution_count": 89,
   "metadata": {},
   "outputs": [
    {
     "data": {
      "text/html": [
       "<div><style>\n",
       ".dataframe > thead > tr,\n",
       ".dataframe > tbody > tr {\n",
       "  text-align: right;\n",
       "  white-space: pre-wrap;\n",
       "}\n",
       "</style>\n",
       "<small>shape: (10, 2)</small><table border=\"1\" class=\"dataframe\"><thead><tr><th>guess_answer</th><th>count</th></tr><tr><td>str</td><td>u32</td></tr></thead><tbody><tr><td>&quot;CA_US&quot;</td><td>34</td></tr><tr><td>&quot;AT_DE&quot;</td><td>31</td></tr><tr><td>&quot;GB_IE&quot;</td><td>23</td></tr><tr><td>&quot;SZ_ZA&quot;</td><td>20</td></tr><tr><td>&quot;ID_MY&quot;</td><td>19</td></tr><tr><td>&quot;AU_US&quot;</td><td>16</td></tr><tr><td>&quot;EE_FI&quot;</td><td>16</td></tr><tr><td>&quot;EE_LT&quot;</td><td>16</td></tr><tr><td>&quot;AU_NZ&quot;</td><td>16</td></tr><tr><td>&quot;AU_ZA&quot;</td><td>15</td></tr></tbody></table></div>"
      ],
      "text/plain": [
       "shape: (10, 2)\n",
       "┌──────────────┬───────┐\n",
       "│ guess_answer ┆ count │\n",
       "│ ---          ┆ ---   │\n",
       "│ str          ┆ u32   │\n",
       "╞══════════════╪═══════╡\n",
       "│ CA_US        ┆ 34    │\n",
       "│ AT_DE        ┆ 31    │\n",
       "│ GB_IE        ┆ 23    │\n",
       "│ SZ_ZA        ┆ 20    │\n",
       "│ ID_MY        ┆ 19    │\n",
       "│ AU_US        ┆ 16    │\n",
       "│ EE_FI        ┆ 16    │\n",
       "│ EE_LT        ┆ 16    │\n",
       "│ AU_NZ        ┆ 16    │\n",
       "│ AU_ZA        ┆ 15    │\n",
       "└──────────────┴───────┘"
      ]
     },
     "execution_count": 89,
     "metadata": {},
     "output_type": "execute_result"
    }
   ],
   "source": [
    "df.filter(pl.col(\"country_code\") != pl.col(\"country_code_answer\")).with_columns(\n",
    "    guess_answer=pl.when(pl.col(\"country_code\") <= pl.col(\"country_code_answer\"))\n",
    "    .then(pl.col(\"country_code\") + \"_\" + pl.col(\"country_code_answer\"))\n",
    "    .otherwise(pl.col(\"country_code_answer\") + \"_\" + pl.col(\"country_code\"))\n",
    ")[\"guess_answer\"].value_counts(sort=True)[:10]"
   ]
  },
  {
   "cell_type": "code",
   "execution_count": 90,
   "metadata": {},
   "outputs": [
    {
     "data": {
      "text/html": [
       "<div><style>\n",
       ".dataframe > thead > tr,\n",
       ".dataframe > tbody > tr {\n",
       "  text-align: right;\n",
       "  white-space: pre-wrap;\n",
       "}\n",
       "</style>\n",
       "<small>shape: (10, 5)</small><table border=\"1\" class=\"dataframe\"><thead><tr><th>country_code_answer</th><th>total</th><th>guessed</th><th>not_guessed</th><th>ratio</th></tr><tr><td>str</td><td>u32</td><td>u32</td><td>u32</td><td>f64</td></tr></thead><tbody><tr><td>&quot;AR&quot;</td><td>78</td><td>13</td><td>65</td><td>0.166667</td></tr><tr><td>&quot;FI&quot;</td><td>65</td><td>12</td><td>53</td><td>0.184615</td></tr><tr><td>&quot;ZA&quot;</td><td>64</td><td>10</td><td>54</td><td>0.15625</td></tr><tr><td>&quot;BE&quot;</td><td>61</td><td>10</td><td>51</td><td>0.163934</td></tr><tr><td>&quot;CL&quot;</td><td>59</td><td>7</td><td>52</td><td>0.118644</td></tr><tr><td>&quot;UY&quot;</td><td>58</td><td>9</td><td>49</td><td>0.155172</td></tr><tr><td>&quot;BM&quot;</td><td>54</td><td>8</td><td>46</td><td>0.148148</td></tr><tr><td>&quot;PR&quot;</td><td>51</td><td>7</td><td>44</td><td>0.137255</td></tr><tr><td>&quot;GT&quot;</td><td>50</td><td>7</td><td>43</td><td>0.14</td></tr><tr><td>&quot;SK&quot;</td><td>41</td><td>8</td><td>33</td><td>0.195122</td></tr></tbody></table></div>"
      ],
      "text/plain": [
       "shape: (10, 5)\n",
       "┌─────────────────────┬───────┬─────────┬─────────────┬──────────┐\n",
       "│ country_code_answer ┆ total ┆ guessed ┆ not_guessed ┆ ratio    │\n",
       "│ ---                 ┆ ---   ┆ ---     ┆ ---         ┆ ---      │\n",
       "│ str                 ┆ u32   ┆ u32     ┆ u32         ┆ f64      │\n",
       "╞═════════════════════╪═══════╪═════════╪═════════════╪══════════╡\n",
       "│ AR                  ┆ 78    ┆ 13      ┆ 65          ┆ 0.166667 │\n",
       "│ FI                  ┆ 65    ┆ 12      ┆ 53          ┆ 0.184615 │\n",
       "│ ZA                  ┆ 64    ┆ 10      ┆ 54          ┆ 0.15625  │\n",
       "│ BE                  ┆ 61    ┆ 10      ┆ 51          ┆ 0.163934 │\n",
       "│ CL                  ┆ 59    ┆ 7       ┆ 52          ┆ 0.118644 │\n",
       "│ UY                  ┆ 58    ┆ 9       ┆ 49          ┆ 0.155172 │\n",
       "│ BM                  ┆ 54    ┆ 8       ┆ 46          ┆ 0.148148 │\n",
       "│ PR                  ┆ 51    ┆ 7       ┆ 44          ┆ 0.137255 │\n",
       "│ GT                  ┆ 50    ┆ 7       ┆ 43          ┆ 0.14     │\n",
       "│ SK                  ┆ 41    ┆ 8       ┆ 33          ┆ 0.195122 │\n",
       "└─────────────────────┴───────┴─────────┴─────────────┴──────────┘"
      ]
     },
     "execution_count": 90,
     "metadata": {},
     "output_type": "execute_result"
    }
   ],
   "source": [
    "def get_correct(a):\n",
    "    print(a[0], a[1])\n",
    "    return a.filter(pl.col(\"country_code\") == a[1][0]).shape[0]\n",
    "\n",
    "tmp = df.with_columns(\n",
    "    guessed=pl.col(\"country_code\") == pl.col(\"country_code_answer\")\n",
    ").group_by(\"country_code_answer\").agg(\n",
    "    total=pl.col(\"country_code_answer\").count(),\n",
    "    guessed=pl.col(\"guessed\").filter(pl.col(\"guessed\") == True).count(),\n",
    "    not_guessed=pl.col(\"guessed\").filter(pl.col(\"guessed\") == False).count()\n",
    ").with_columns(\n",
    "    ratio=pl.col(\"guessed\") / pl.col(\"total\")\n",
    ")\n",
    "tmp.filter(\n",
    "    (pl.col(\"total\") > 40)\n",
    "    & (pl.col(\"ratio\") < 0.2)\n",
    ").sort(by=\"total\", descending=True)"
   ]
  },
  {
   "cell_type": "code",
   "execution_count": 102,
   "metadata": {},
   "outputs": [
    {
     "data": {
      "text/html": [
       "<div><style>\n",
       ".dataframe > thead > tr,\n",
       ".dataframe > tbody > tr {\n",
       "  text-align: right;\n",
       "  white-space: pre-wrap;\n",
       "}\n",
       "</style>\n",
       "<small>shape: (10, 5)</small><table border=\"1\" class=\"dataframe\"><thead><tr><th>country_code_answer</th><th>total</th><th>guessed</th><th>not_guessed</th><th>ratio</th></tr><tr><td>str</td><td>u32</td><td>u32</td><td>u32</td><td>f64</td></tr></thead><tbody><tr><td>&quot;MC&quot;</td><td>3</td><td>3</td><td>0</td><td>1.0</td></tr><tr><td>&quot;KR&quot;</td><td>30</td><td>26</td><td>4</td><td>0.866667</td></tr><tr><td>&quot;UA&quot;</td><td>35</td><td>28</td><td>7</td><td>0.8</td></tr><tr><td>&quot;GR&quot;</td><td>30</td><td>23</td><td>7</td><td>0.766667</td></tr><tr><td>&quot;TN&quot;</td><td>10</td><td>7</td><td>3</td><td>0.7</td></tr><tr><td>&quot;NL&quot;</td><td>62</td><td>43</td><td>19</td><td>0.693548</td></tr><tr><td>&quot;IN&quot;</td><td>28</td><td>18</td><td>10</td><td>0.642857</td></tr><tr><td>&quot;JP&quot;</td><td>42</td><td>27</td><td>15</td><td>0.642857</td></tr><tr><td>&quot;US&quot;</td><td>88</td><td>55</td><td>33</td><td>0.625</td></tr><tr><td>&quot;TR&quot;</td><td>45</td><td>28</td><td>17</td><td>0.622222</td></tr></tbody></table></div>"
      ],
      "text/plain": [
       "shape: (10, 5)\n",
       "┌─────────────────────┬───────┬─────────┬─────────────┬──────────┐\n",
       "│ country_code_answer ┆ total ┆ guessed ┆ not_guessed ┆ ratio    │\n",
       "│ ---                 ┆ ---   ┆ ---     ┆ ---         ┆ ---      │\n",
       "│ str                 ┆ u32   ┆ u32     ┆ u32         ┆ f64      │\n",
       "╞═════════════════════╪═══════╪═════════╪═════════════╪══════════╡\n",
       "│ MC                  ┆ 3     ┆ 3       ┆ 0           ┆ 1.0      │\n",
       "│ KR                  ┆ 30    ┆ 26      ┆ 4           ┆ 0.866667 │\n",
       "│ UA                  ┆ 35    ┆ 28      ┆ 7           ┆ 0.8      │\n",
       "│ GR                  ┆ 30    ┆ 23      ┆ 7           ┆ 0.766667 │\n",
       "│ TN                  ┆ 10    ┆ 7       ┆ 3           ┆ 0.7      │\n",
       "│ NL                  ┆ 62    ┆ 43      ┆ 19          ┆ 0.693548 │\n",
       "│ IN                  ┆ 28    ┆ 18      ┆ 10          ┆ 0.642857 │\n",
       "│ JP                  ┆ 42    ┆ 27      ┆ 15          ┆ 0.642857 │\n",
       "│ US                  ┆ 88    ┆ 55      ┆ 33          ┆ 0.625    │\n",
       "│ TR                  ┆ 45    ┆ 28      ┆ 17          ┆ 0.622222 │\n",
       "└─────────────────────┴───────┴─────────┴─────────────┴──────────┘"
      ]
     },
     "execution_count": 102,
     "metadata": {},
     "output_type": "execute_result"
    }
   ],
   "source": [
    "tmp.sort(by=\"ratio\", descending=True)[:10]"
   ]
  }
 ],
 "metadata": {
  "kernelspec": {
   "display_name": "geoguessr-stats-analysis",
   "language": "python",
   "name": "python3"
  },
  "language_info": {
   "codemirror_mode": {
    "name": "ipython",
    "version": 3
   },
   "file_extension": ".py",
   "mimetype": "text/x-python",
   "name": "python",
   "nbconvert_exporter": "python",
   "pygments_lexer": "ipython3",
   "version": "3.12.4"
  }
 },
 "nbformat": 4,
 "nbformat_minor": 2
}
