{
 "cells": [
  {
   "cell_type": "code",
   "execution_count": 46,
   "metadata": {},
   "outputs": [],
   "source": [
    "import polars as pl\n",
    "from polars_reverse_geocode import find_closest_country\n",
    "import json"
   ]
  },
  {
   "cell_type": "code",
   "execution_count": 47,
   "metadata": {},
   "outputs": [
    {
     "data": {
      "text/html": [
       "<div><style>\n",
       ".dataframe > thead > tr,\n",
       ".dataframe > tbody > tr {\n",
       "  text-align: right;\n",
       "  white-space: pre-wrap;\n",
       "}\n",
       "</style>\n",
       "<small>shape: (5, 4)</small><table border=\"1\" class=\"dataframe\"><thead><tr><th>gameId</th><th>roundNumber</th><th>lat</th><th>lng</th></tr><tr><td>str</td><td>i64</td><td>f64</td><td>f64</td></tr></thead><tbody><tr><td>&quot;d30d3d04-d8d1-44cb-ab9e-294433…</td><td>1</td><td>-78.065498</td><td>164.144104</td></tr><tr><td>&quot;d30d3d04-d8d1-44cb-ab9e-294433…</td><td>2</td><td>13.854082</td><td>100.843712</td></tr><tr><td>&quot;d30d3d04-d8d1-44cb-ab9e-294433…</td><td>3</td><td>13.557908</td><td>144.854996</td></tr><tr><td>&quot;d30d3d04-d8d1-44cb-ab9e-294433…</td><td>4</td><td>38.005451</td><td>23.947958</td></tr><tr><td>&quot;d30d3d04-d8d1-44cb-ab9e-294433…</td><td>5</td><td>34.247738</td><td>36.002708</td></tr></tbody></table></div>"
      ],
      "text/plain": [
       "shape: (5, 4)\n",
       "┌─────────────────────────────────┬─────────────┬────────────┬────────────┐\n",
       "│ gameId                          ┆ roundNumber ┆ lat        ┆ lng        │\n",
       "│ ---                             ┆ ---         ┆ ---        ┆ ---        │\n",
       "│ str                             ┆ i64         ┆ f64        ┆ f64        │\n",
       "╞═════════════════════════════════╪═════════════╪════════════╪════════════╡\n",
       "│ d30d3d04-d8d1-44cb-ab9e-294433… ┆ 1           ┆ -78.065498 ┆ 164.144104 │\n",
       "│ d30d3d04-d8d1-44cb-ab9e-294433… ┆ 2           ┆ 13.854082  ┆ 100.843712 │\n",
       "│ d30d3d04-d8d1-44cb-ab9e-294433… ┆ 3           ┆ 13.557908  ┆ 144.854996 │\n",
       "│ d30d3d04-d8d1-44cb-ab9e-294433… ┆ 4           ┆ 38.005451  ┆ 23.947958  │\n",
       "│ d30d3d04-d8d1-44cb-ab9e-294433… ┆ 5           ┆ 34.247738  ┆ 36.002708  │\n",
       "└─────────────────────────────────┴─────────────┴────────────┴────────────┘"
      ]
     },
     "execution_count": 47,
     "metadata": {},
     "output_type": "execute_result"
    }
   ],
   "source": [
    "with open(\"./geoguessr_events.json\", \"r\") as f:\n",
    "    answers = []\n",
    "    for line in f:\n",
    "        row = json.loads(line)\n",
    "        if row[\"code\"] != \"LiveChallengeFinished\":\n",
    "            continue\n",
    "        game_id = row[\"gameId\"]\n",
    "        for i, round in enumerate(row[\"liveChallenge\"][\"state\"][\"rounds\"]):\n",
    "            try:\n",
    "                coordinates = round[\"answer\"][\"coordinateAnswerPayload\"][\"coordinate\"]\n",
    "            except TypeError:\n",
    "                continue\n",
    "            lat = coordinates[\"lat\"]\n",
    "            lng = coordinates[\"lng\"]\n",
    "            answer = {\n",
    "                \"gameId\": game_id,\n",
    "                \"roundNumber\": i + 1,\n",
    "                \"lat\": lat,\n",
    "                \"lng\": lng,\n",
    "            }\n",
    "            answers.append(answer)\n",
    "    answers_df = pl.DataFrame(answers)\n",
    "answers_df.head()"
   ]
  },
  {
   "cell_type": "code",
   "execution_count": 48,
   "metadata": {},
   "outputs": [
    {
     "data": {
      "text/html": [
       "<div><style>\n",
       ".dataframe > thead > tr,\n",
       ".dataframe > tbody > tr {\n",
       "  text-align: right;\n",
       "  white-space: pre-wrap;\n",
       "}\n",
       "</style>\n",
       "<small>shape: (5, 5)</small><table border=\"1\" class=\"dataframe\"><thead><tr><th>gameId</th><th>roundNumber</th><th>lat</th><th>lng</th><th>country_code</th></tr><tr><td>str</td><td>i64</td><td>f64</td><td>f64</td><td>str</td></tr></thead><tbody><tr><td>&quot;d30d3d04-d8d1-44cb-ab9e-294433…</td><td>1</td><td>-78.065498</td><td>164.144104</td><td>&quot;AQ&quot;</td></tr><tr><td>&quot;d30d3d04-d8d1-44cb-ab9e-294433…</td><td>2</td><td>13.854082</td><td>100.843712</td><td>&quot;TH&quot;</td></tr><tr><td>&quot;d30d3d04-d8d1-44cb-ab9e-294433…</td><td>3</td><td>13.557908</td><td>144.854996</td><td>&quot;GU&quot;</td></tr><tr><td>&quot;d30d3d04-d8d1-44cb-ab9e-294433…</td><td>4</td><td>38.005451</td><td>23.947958</td><td>&quot;GR&quot;</td></tr><tr><td>&quot;d30d3d04-d8d1-44cb-ab9e-294433…</td><td>5</td><td>34.247738</td><td>36.002708</td><td>&quot;LB&quot;</td></tr></tbody></table></div>"
      ],
      "text/plain": [
       "shape: (5, 5)\n",
       "┌─────────────────────────────────┬─────────────┬────────────┬────────────┬──────────────┐\n",
       "│ gameId                          ┆ roundNumber ┆ lat        ┆ lng        ┆ country_code │\n",
       "│ ---                             ┆ ---         ┆ ---        ┆ ---        ┆ ---          │\n",
       "│ str                             ┆ i64         ┆ f64        ┆ f64        ┆ str          │\n",
       "╞═════════════════════════════════╪═════════════╪════════════╪════════════╪══════════════╡\n",
       "│ d30d3d04-d8d1-44cb-ab9e-294433… ┆ 1           ┆ -78.065498 ┆ 164.144104 ┆ AQ           │\n",
       "│ d30d3d04-d8d1-44cb-ab9e-294433… ┆ 2           ┆ 13.854082  ┆ 100.843712 ┆ TH           │\n",
       "│ d30d3d04-d8d1-44cb-ab9e-294433… ┆ 3           ┆ 13.557908  ┆ 144.854996 ┆ GU           │\n",
       "│ d30d3d04-d8d1-44cb-ab9e-294433… ┆ 4           ┆ 38.005451  ┆ 23.947958  ┆ GR           │\n",
       "│ d30d3d04-d8d1-44cb-ab9e-294433… ┆ 5           ┆ 34.247738  ┆ 36.002708  ┆ LB           │\n",
       "└─────────────────────────────────┴─────────────┴────────────┴────────────┴──────────────┘"
      ]
     },
     "execution_count": 48,
     "metadata": {},
     "output_type": "execute_result"
    }
   ],
   "source": [
    "answers_df = answers_df.with_columns(\n",
    "    country_code=find_closest_country(\"lat\", \"lng\")\n",
    ")\n",
    "answers_df.head()"
   ]
  },
  {
   "cell_type": "code",
   "execution_count": 49,
   "metadata": {},
   "outputs": [
    {
     "data": {
      "text/html": [
       "<div><style>\n",
       ".dataframe > thead > tr,\n",
       ".dataframe > tbody > tr {\n",
       "  text-align: right;\n",
       "  white-space: pre-wrap;\n",
       "}\n",
       "</style>\n",
       "<small>shape: (5, 21)</small><table border=\"1\" class=\"dataframe\"><thead><tr><th>roundNumber</th><th>lat</th><th>lng</th><th>distance</th><th>time</th><th>score</th><th>wasCorrect</th><th>gameId</th><th>playerName</th><th>code</th><th>playerId</th><th>payload</th><th>timestamp</th><th>lobby</th><th>countryGuess</th><th>coordinateGuess</th><th>battleRoyaleGameState</th><th>battleRoyalePlayer</th><th>duel</th><th>bullseye</th><th>player</th></tr><tr><td>i64</td><td>f64</td><td>f64</td><td>f64</td><td>i64</td><td>i64</td><td>bool</td><td>str</td><td>str</td><td>str</td><td>null</td><td>null</td><td>str</td><td>null</td><td>null</td><td>null</td><td>null</td><td>null</td><td>null</td><td>null</td><td>str</td></tr></thead><tbody><tr><td>2</td><td>24.925957</td><td>84.90989</td><td>801284.133393</td><td>25</td><td>2922</td><td>false</td><td>&quot;e167e423-b11b-4397-a1a3-fcd00f…</td><td>&quot;Demaga Chill&quot;</td><td>&quot;LiveChallengeLeaderboardUpdate&quot;</td><td>null</td><td>null</td><td>&quot;2024-08-08T08:42:38.9661186Z&quot;</td><td>null</td><td>null</td><td>null</td><td>null</td><td>null</td><td>null</td><td>null</td><td>&quot;Demaga Chill&quot;</td></tr><tr><td>3</td><td>41.331447</td><td>19.494662</td><td>1.1448e6</td><td>17</td><td>2321</td><td>false</td><td>&quot;c40e6798-271f-4e4e-80bc-2e9af7…</td><td>&quot;San4i&quot;</td><td>&quot;LiveChallengeLeaderboardUpdate&quot;</td><td>null</td><td>null</td><td>&quot;2024-08-16T15:08:55.7319049Z&quot;</td><td>null</td><td>null</td><td>null</td><td>null</td><td>null</td><td>null</td><td>null</td><td>&quot;San4i&quot;</td></tr><tr><td>5</td><td>35.852773</td><td>128.567611</td><td>356080.926705</td><td>27</td><td>3938</td><td>false</td><td>&quot;d8dbceba-638b-40fc-8718-9c4348…</td><td>&quot;Ishenko01y&quot;</td><td>&quot;LiveChallengeLeaderboardUpdate&quot;</td><td>null</td><td>null</td><td>&quot;2024-08-15T09:41:20.5245749Z&quot;</td><td>null</td><td>null</td><td>null</td><td>null</td><td>null</td><td>null</td><td>null</td><td>&quot;Ishenko01y&quot;</td></tr><tr><td>5</td><td>20.711627</td><td>-103.32937</td><td>7.7672e6</td><td>39</td><td>27</td><td>false</td><td>&quot;ea8d34ee-d2c9-4283-834e-f0438f…</td><td>&quot;Ishenko01y&quot;</td><td>&quot;LiveChallengeLeaderboardUpdate&quot;</td><td>null</td><td>null</td><td>&quot;2024-08-21T18:49:25.6811034Z&quot;</td><td>null</td><td>null</td><td>null</td><td>null</td><td>null</td><td>null</td><td>null</td><td>&quot;Ishenko01y&quot;</td></tr><tr><td>2</td><td>49.52037</td><td>18.768828</td><td>478099.896782</td><td>25</td><td>3629</td><td>false</td><td>&quot;db11058f-d91c-4cd5-a3ad-8d3b8a…</td><td>&quot;Gor Kosty&quot;</td><td>&quot;LiveChallengeLeaderboardUpdate&quot;</td><td>null</td><td>null</td><td>&quot;2024-08-06T12:51:21.0636625Z&quot;</td><td>null</td><td>null</td><td>null</td><td>null</td><td>null</td><td>null</td><td>null</td><td>&quot;Gor Kosty&quot;</td></tr></tbody></table></div>"
      ],
      "text/plain": [
       "shape: (5, 21)\n",
       "┌────────────┬───────────┬────────────┬────────────┬───┬────────────┬──────┬──────────┬────────────┐\n",
       "│ roundNumbe ┆ lat       ┆ lng        ┆ distance   ┆ … ┆ battleRoya ┆ duel ┆ bullseye ┆ player     │\n",
       "│ r          ┆ ---       ┆ ---        ┆ ---        ┆   ┆ lePlayer   ┆ ---  ┆ ---      ┆ ---        │\n",
       "│ ---        ┆ f64       ┆ f64        ┆ f64        ┆   ┆ ---        ┆ null ┆ null     ┆ str        │\n",
       "│ i64        ┆           ┆            ┆            ┆   ┆ null       ┆      ┆          ┆            │\n",
       "╞════════════╪═══════════╪════════════╪════════════╪═══╪════════════╪══════╪══════════╪════════════╡\n",
       "│ 2          ┆ 24.925957 ┆ 84.90989   ┆ 801284.133 ┆ … ┆ null       ┆ null ┆ null     ┆ Demaga     │\n",
       "│            ┆           ┆            ┆ 393        ┆   ┆            ┆      ┆          ┆ Chill      │\n",
       "│ 3          ┆ 41.331447 ┆ 19.494662  ┆ 1.1448e6   ┆ … ┆ null       ┆ null ┆ null     ┆ San4i      │\n",
       "│ 5          ┆ 35.852773 ┆ 128.567611 ┆ 356080.926 ┆ … ┆ null       ┆ null ┆ null     ┆ Ishenko01y │\n",
       "│            ┆           ┆            ┆ 705        ┆   ┆            ┆      ┆          ┆            │\n",
       "│ 5          ┆ 20.711627 ┆ -103.32937 ┆ 7.7672e6   ┆ … ┆ null       ┆ null ┆ null     ┆ Ishenko01y │\n",
       "│ 2          ┆ 49.52037  ┆ 18.768828  ┆ 478099.896 ┆ … ┆ null       ┆ null ┆ null     ┆ Gor Kosty  │\n",
       "│            ┆           ┆            ┆ 782        ┆   ┆            ┆      ┆          ┆            │\n",
       "└────────────┴───────────┴────────────┴────────────┴───┴────────────┴──────┴──────────┴────────────┘"
      ]
     },
     "execution_count": 49,
     "metadata": {},
     "output_type": "execute_result"
    }
   ],
   "source": [
    "with open(\"./geoguessr_events.json\", \"r\") as f:\n",
    "    records = []\n",
    "    for line in f:\n",
    "        row = json.loads(line)\n",
    "        if row[\"code\"] != \"LiveChallengeLeaderboardUpdate\":\n",
    "            continue\n",
    "        common_values = row.copy()\n",
    "        del common_values[\"liveChallenge\"]\n",
    "        game_id = common_values[\"gameId\"]\n",
    "        guesses = row[\"liveChallenge\"][\"leaderboards\"][\"round\"][\"guesses\"]\n",
    "        entries = row[\"liveChallenge\"][\"leaderboards\"][\"round\"][\"entries\"]\n",
    "        for i, guess in enumerate(guesses):\n",
    "            if not guess:\n",
    "                continue\n",
    "            record = guess.copy()\n",
    "            record.update(common_values)\n",
    "            record[\"player\"] = entries[i][\"name\"]\n",
    "            records.append(record)\n",
    "guesses_df = pl.DataFrame(records)\n",
    "guesses_df = guesses_df.unique(subset=[\"player\", \"roundNumber\", \"gameId\"], keep=\"last\")\n",
    "guesses_df.head()"
   ]
  },
  {
   "cell_type": "code",
   "execution_count": 50,
   "metadata": {},
   "outputs": [
    {
     "data": {
      "text/html": [
       "<div><style>\n",
       ".dataframe > thead > tr,\n",
       ".dataframe > tbody > tr {\n",
       "  text-align: right;\n",
       "  white-space: pre-wrap;\n",
       "}\n",
       "</style>\n",
       "<small>shape: (2, 22)</small><table border=\"1\" class=\"dataframe\"><thead><tr><th>roundNumber</th><th>lat</th><th>lng</th><th>distance</th><th>time</th><th>score</th><th>wasCorrect</th><th>gameId</th><th>playerName</th><th>code</th><th>playerId</th><th>payload</th><th>timestamp</th><th>lobby</th><th>countryGuess</th><th>coordinateGuess</th><th>battleRoyaleGameState</th><th>battleRoyalePlayer</th><th>duel</th><th>bullseye</th><th>player</th><th>country_code</th></tr><tr><td>i64</td><td>f64</td><td>f64</td><td>f64</td><td>i64</td><td>i64</td><td>bool</td><td>str</td><td>str</td><td>str</td><td>null</td><td>null</td><td>str</td><td>null</td><td>null</td><td>null</td><td>null</td><td>null</td><td>null</td><td>null</td><td>str</td><td>str</td></tr></thead><tbody><tr><td>2</td><td>24.925957</td><td>84.90989</td><td>801284.133393</td><td>25</td><td>2922</td><td>false</td><td>&quot;e167e423-b11b-4397-a1a3-fcd00f…</td><td>&quot;Demaga Chill&quot;</td><td>&quot;LiveChallengeLeaderboardUpdate&quot;</td><td>null</td><td>null</td><td>&quot;2024-08-08T08:42:38.9661186Z&quot;</td><td>null</td><td>null</td><td>null</td><td>null</td><td>null</td><td>null</td><td>null</td><td>&quot;Demaga Chill&quot;</td><td>&quot;IN&quot;</td></tr><tr><td>3</td><td>41.331447</td><td>19.494662</td><td>1.1448e6</td><td>17</td><td>2321</td><td>false</td><td>&quot;c40e6798-271f-4e4e-80bc-2e9af7…</td><td>&quot;San4i&quot;</td><td>&quot;LiveChallengeLeaderboardUpdate&quot;</td><td>null</td><td>null</td><td>&quot;2024-08-16T15:08:55.7319049Z&quot;</td><td>null</td><td>null</td><td>null</td><td>null</td><td>null</td><td>null</td><td>null</td><td>&quot;San4i&quot;</td><td>&quot;AL&quot;</td></tr></tbody></table></div>"
      ],
      "text/plain": [
       "shape: (2, 22)\n",
       "┌──────────────┬───────────┬───────────┬──────────────┬───┬──────┬──────────┬────────┬─────────────┐\n",
       "│ roundNumber  ┆ lat       ┆ lng       ┆ distance     ┆ … ┆ duel ┆ bullseye ┆ player ┆ country_cod │\n",
       "│ ---          ┆ ---       ┆ ---       ┆ ---          ┆   ┆ ---  ┆ ---      ┆ ---    ┆ e           │\n",
       "│ i64          ┆ f64       ┆ f64       ┆ f64          ┆   ┆ null ┆ null     ┆ str    ┆ ---         │\n",
       "│              ┆           ┆           ┆              ┆   ┆      ┆          ┆        ┆ str         │\n",
       "╞══════════════╪═══════════╪═══════════╪══════════════╪═══╪══════╪══════════╪════════╪═════════════╡\n",
       "│ 2            ┆ 24.925957 ┆ 84.90989  ┆ 801284.13339 ┆ … ┆ null ┆ null     ┆ Demaga ┆ IN          │\n",
       "│              ┆           ┆           ┆ 3            ┆   ┆      ┆          ┆ Chill  ┆             │\n",
       "│ 3            ┆ 41.331447 ┆ 19.494662 ┆ 1.1448e6     ┆ … ┆ null ┆ null     ┆ San4i  ┆ AL          │\n",
       "└──────────────┴───────────┴───────────┴──────────────┴───┴──────┴──────────┴────────┴─────────────┘"
      ]
     },
     "execution_count": 50,
     "metadata": {},
     "output_type": "execute_result"
    }
   ],
   "source": [
    "guesses_df = guesses_df.with_columns(\n",
    "    country_code=find_closest_country(\"lat\", \"lng\")\n",
    ")\n",
    "guesses_df.head(2)"
   ]
  },
  {
   "cell_type": "code",
   "execution_count": 51,
   "metadata": {},
   "outputs": [
    {
     "data": {
      "text/html": [
       "<div><style>\n",
       ".dataframe > thead > tr,\n",
       ".dataframe > tbody > tr {\n",
       "  text-align: right;\n",
       "  white-space: pre-wrap;\n",
       "}\n",
       "</style>\n",
       "<small>shape: (184, 2)</small><table border=\"1\" class=\"dataframe\"><thead><tr><th>country_code</th><th>count</th></tr><tr><td>str</td><td>u32</td></tr></thead><tbody><tr><td>&quot;GH&quot;</td><td>475</td></tr><tr><td>&quot;US&quot;</td><td>274</td></tr><tr><td>&quot;FR&quot;</td><td>163</td></tr><tr><td>&quot;ES&quot;</td><td>125</td></tr><tr><td>&quot;GB&quot;</td><td>121</td></tr><tr><td>&hellip;</td><td>&hellip;</td></tr><tr><td>&quot;RE&quot;</td><td>1</td></tr><tr><td>&quot;SH&quot;</td><td>1</td></tr><tr><td>&quot;NA&quot;</td><td>1</td></tr><tr><td>&quot;NF&quot;</td><td>1</td></tr><tr><td>&quot;GP&quot;</td><td>1</td></tr></tbody></table></div>"
      ],
      "text/plain": [
       "shape: (184, 2)\n",
       "┌──────────────┬───────┐\n",
       "│ country_code ┆ count │\n",
       "│ ---          ┆ ---   │\n",
       "│ str          ┆ u32   │\n",
       "╞══════════════╪═══════╡\n",
       "│ GH           ┆ 475   │\n",
       "│ US           ┆ 274   │\n",
       "│ FR           ┆ 163   │\n",
       "│ ES           ┆ 125   │\n",
       "│ GB           ┆ 121   │\n",
       "│ …            ┆ …     │\n",
       "│ RE           ┆ 1     │\n",
       "│ SH           ┆ 1     │\n",
       "│ NA           ┆ 1     │\n",
       "│ NF           ┆ 1     │\n",
       "│ GP           ┆ 1     │\n",
       "└──────────────┴───────┘"
      ]
     },
     "execution_count": 51,
     "metadata": {},
     "output_type": "execute_result"
    }
   ],
   "source": [
    "guesses_df[\"country_code\"].value_counts(sort=True)"
   ]
  },
  {
   "cell_type": "code",
   "execution_count": 52,
   "metadata": {},
   "outputs": [
    {
     "data": {
      "text/html": [
       "<div><style>\n",
       ".dataframe > thead > tr,\n",
       ".dataframe > tbody > tr {\n",
       "  text-align: right;\n",
       "  white-space: pre-wrap;\n",
       "}\n",
       "</style>\n",
       "<small>shape: (5, 11)</small><table border=\"1\" class=\"dataframe\"><thead><tr><th>game_id</th><th>forbidMoving</th><th>forbidZooming</th><th>forbidRotating</th><th>roundCount</th><th>mapSlug</th><th>roundTime</th><th>isSinglePlayer</th><th>scoringType</th><th>context</th><th>date</th></tr><tr><td>str</td><td>bool</td><td>bool</td><td>bool</td><td>i64</td><td>str</td><td>i64</td><td>bool</td><td>str</td><td>str</td><td>str</td></tr></thead><tbody><tr><td>&quot;d30d3d04-d8d1-44cb-ab9e-294433…</td><td>true</td><td>false</td><td>false</td><td>5</td><td>&quot;world&quot;</td><td>20</td><td>false</td><td>&quot;Unknown&quot;</td><td>&quot;&quot;</td><td>&quot;2024-10-11T13:39:41.699Z&quot;</td></tr><tr><td>&quot;43b82fcf-29d8-4daf-84e9-80e029…</td><td>true</td><td>false</td><td>false</td><td>5</td><td>&quot;world&quot;</td><td>40</td><td>false</td><td>&quot;Unknown&quot;</td><td>&quot;&quot;</td><td>&quot;2024-10-30T18:06:54.013Z&quot;</td></tr><tr><td>&quot;14cf63a7-1289-4b09-9ab8-75eb4f…</td><td>true</td><td>false</td><td>false</td><td>5</td><td>&quot;world&quot;</td><td>40</td><td>false</td><td>&quot;Unknown&quot;</td><td>&quot;&quot;</td><td>&quot;2024-10-30T18:11:55.588Z&quot;</td></tr><tr><td>&quot;7df0b9bb-c330-45fe-9117-2820ce…</td><td>true</td><td>false</td><td>false</td><td>5</td><td>&quot;world&quot;</td><td>40</td><td>false</td><td>&quot;Unknown&quot;</td><td>&quot;&quot;</td><td>&quot;2024-10-30T18:16:38.505Z&quot;</td></tr><tr><td>&quot;bc1276a6-4244-4a22-b60a-1c5f3f…</td><td>true</td><td>false</td><td>false</td><td>5</td><td>&quot;world&quot;</td><td>40</td><td>false</td><td>&quot;Unknown&quot;</td><td>&quot;&quot;</td><td>&quot;2024-10-30T18:21:57.020Z&quot;</td></tr></tbody></table></div>"
      ],
      "text/plain": [
       "shape: (5, 11)\n",
       "┌────────────┬───────────┬───────────┬───────────┬───┬───────────┬───────────┬─────────┬───────────┐\n",
       "│ game_id    ┆ forbidMov ┆ forbidZoo ┆ forbidRot ┆ … ┆ isSingleP ┆ scoringTy ┆ context ┆ date      │\n",
       "│ ---        ┆ ing       ┆ ming      ┆ ating     ┆   ┆ layer     ┆ pe        ┆ ---     ┆ ---       │\n",
       "│ str        ┆ ---       ┆ ---       ┆ ---       ┆   ┆ ---       ┆ ---       ┆ str     ┆ str       │\n",
       "│            ┆ bool      ┆ bool      ┆ bool      ┆   ┆ bool      ┆ str       ┆         ┆           │\n",
       "╞════════════╪═══════════╪═══════════╪═══════════╪═══╪═══════════╪═══════════╪═════════╪═══════════╡\n",
       "│ d30d3d04-d ┆ true      ┆ false     ┆ false     ┆ … ┆ false     ┆ Unknown   ┆         ┆ 2024-10-1 │\n",
       "│ 8d1-44cb-a ┆           ┆           ┆           ┆   ┆           ┆           ┆         ┆ 1T13:39:4 │\n",
       "│ b9e-294433 ┆           ┆           ┆           ┆   ┆           ┆           ┆         ┆ 1.699Z    │\n",
       "│ …          ┆           ┆           ┆           ┆   ┆           ┆           ┆         ┆           │\n",
       "│ 43b82fcf-2 ┆ true      ┆ false     ┆ false     ┆ … ┆ false     ┆ Unknown   ┆         ┆ 2024-10-3 │\n",
       "│ 9d8-4daf-8 ┆           ┆           ┆           ┆   ┆           ┆           ┆         ┆ 0T18:06:5 │\n",
       "│ 4e9-80e029 ┆           ┆           ┆           ┆   ┆           ┆           ┆         ┆ 4.013Z    │\n",
       "│ …          ┆           ┆           ┆           ┆   ┆           ┆           ┆         ┆           │\n",
       "│ 14cf63a7-1 ┆ true      ┆ false     ┆ false     ┆ … ┆ false     ┆ Unknown   ┆         ┆ 2024-10-3 │\n",
       "│ 289-4b09-9 ┆           ┆           ┆           ┆   ┆           ┆           ┆         ┆ 0T18:11:5 │\n",
       "│ ab8-75eb4f ┆           ┆           ┆           ┆   ┆           ┆           ┆         ┆ 5.588Z    │\n",
       "│ …          ┆           ┆           ┆           ┆   ┆           ┆           ┆         ┆           │\n",
       "│ 7df0b9bb-c ┆ true      ┆ false     ┆ false     ┆ … ┆ false     ┆ Unknown   ┆         ┆ 2024-10-3 │\n",
       "│ 330-45fe-9 ┆           ┆           ┆           ┆   ┆           ┆           ┆         ┆ 0T18:16:3 │\n",
       "│ 117-2820ce ┆           ┆           ┆           ┆   ┆           ┆           ┆         ┆ 8.505Z    │\n",
       "│ …          ┆           ┆           ┆           ┆   ┆           ┆           ┆         ┆           │\n",
       "│ bc1276a6-4 ┆ true      ┆ false     ┆ false     ┆ … ┆ false     ┆ Unknown   ┆         ┆ 2024-10-3 │\n",
       "│ 244-4a22-b ┆           ┆           ┆           ┆   ┆           ┆           ┆         ┆ 0T18:21:5 │\n",
       "│ 60a-1c5f3f ┆           ┆           ┆           ┆   ┆           ┆           ┆         ┆ 7.020Z    │\n",
       "│ …          ┆           ┆           ┆           ┆   ┆           ┆           ┆         ┆           │\n",
       "└────────────┴───────────┴───────────┴───────────┴───┴───────────┴───────────┴─────────┴───────────┘"
      ]
     },
     "execution_count": 52,
     "metadata": {},
     "output_type": "execute_result"
    }
   ],
   "source": [
    "with open(\"./geoguessr_events.json\", \"r\") as f:\n",
    "    game_options = {}\n",
    "    for line in f:\n",
    "        row = json.loads(line)\n",
    "        if row[\"code\"] != \"LiveChallengeFinished\":\n",
    "            continue\n",
    "        game_id = row[\"gameId\"]\n",
    "        if game_id not in game_options:\n",
    "            game_options[game_id] = row[\"liveChallenge\"][\"state\"][\"options\"]\n",
    "    \n",
    "    games = []\n",
    "    for game_id in game_options:\n",
    "        game = {\"game_id\": game_id}\n",
    "        moving_options = game_options[game_id][\"movementOptions\"]\n",
    "        game.update(moving_options)\n",
    "        del game_options[game_id][\"movementOptions\"]\n",
    "        game.update(game_options[game_id])\n",
    "        games.append(game)\n",
    "    games_df = pl.DataFrame(games)\n",
    "games_df.head()"
   ]
  },
  {
   "cell_type": "code",
   "execution_count": 53,
   "metadata": {},
   "outputs": [
    {
     "data": {
      "text/html": [
       "<div><style>\n",
       ".dataframe > thead > tr,\n",
       ".dataframe > tbody > tr {\n",
       "  text-align: right;\n",
       "  white-space: pre-wrap;\n",
       "}\n",
       "</style>\n",
       "<small>shape: (10, 2)</small><table border=\"1\" class=\"dataframe\"><thead><tr><th>mapSlug</th><th>count</th></tr><tr><td>str</td><td>u32</td></tr></thead><tbody><tr><td>&quot;GeoDetective&quot;</td><td>3</td></tr><tr><td>&quot;world&quot;</td><td>294</td></tr><tr><td>&quot;61a1846aee665b00016680ce&quot;</td><td>1</td></tr><tr><td>&quot;61ea4e1d4356b500014cdc8d&quot;</td><td>1</td></tr><tr><td>&quot;5d0ce72c8b19a91fe05aa7a8&quot;</td><td>1</td></tr><tr><td>&quot;57357d9f77abe957e8cfd15f&quot;</td><td>3</td></tr><tr><td>&quot;60de2a8a81b92c00015f29e1&quot;</td><td>2</td></tr><tr><td>&quot;6029991c5048850001d572a9&quot;</td><td>3</td></tr><tr><td>&quot;5cfda2c9bc79e16dd866104d&quot;</td><td>1</td></tr><tr><td>&quot;5ad0b0cb2a3e0d4da46cc44c&quot;</td><td>4</td></tr></tbody></table></div>"
      ],
      "text/plain": [
       "shape: (10, 2)\n",
       "┌──────────────────────────┬───────┐\n",
       "│ mapSlug                  ┆ count │\n",
       "│ ---                      ┆ ---   │\n",
       "│ str                      ┆ u32   │\n",
       "╞══════════════════════════╪═══════╡\n",
       "│ GeoDetective             ┆ 3     │\n",
       "│ world                    ┆ 294   │\n",
       "│ 61a1846aee665b00016680ce ┆ 1     │\n",
       "│ 61ea4e1d4356b500014cdc8d ┆ 1     │\n",
       "│ 5d0ce72c8b19a91fe05aa7a8 ┆ 1     │\n",
       "│ 57357d9f77abe957e8cfd15f ┆ 3     │\n",
       "│ 60de2a8a81b92c00015f29e1 ┆ 2     │\n",
       "│ 6029991c5048850001d572a9 ┆ 3     │\n",
       "│ 5cfda2c9bc79e16dd866104d ┆ 1     │\n",
       "│ 5ad0b0cb2a3e0d4da46cc44c ┆ 4     │\n",
       "└──────────────────────────┴───────┘"
      ]
     },
     "execution_count": 53,
     "metadata": {},
     "output_type": "execute_result"
    }
   ],
   "source": [
    "games_df = games_df.with_columns(\n",
    "    mapSlug=pl.col(\"mapSlug\").replace(\"5d374dc141d2a43c1cd4527b\", \"GeoDetective\")\n",
    ")\n",
    "games_df[\"mapSlug\"].value_counts()"
   ]
  },
  {
   "cell_type": "code",
   "execution_count": 54,
   "metadata": {},
   "outputs": [],
   "source": [
    "answers_df.write_csv(\"answers_df.csv\")"
   ]
  },
  {
   "cell_type": "code",
   "execution_count": 55,
   "metadata": {},
   "outputs": [],
   "source": [
    "guesses_df.write_csv(\"guesses_df.csv\")"
   ]
  },
  {
   "cell_type": "code",
   "execution_count": 56,
   "metadata": {},
   "outputs": [],
   "source": [
    "games_df.write_csv(\"games_df.csv\")"
   ]
  }
 ],
 "metadata": {
  "kernelspec": {
   "display_name": "geoguessr-stats-polars",
   "language": "python",
   "name": "python3"
  },
  "language_info": {
   "codemirror_mode": {
    "name": "ipython",
    "version": 3
   },
   "file_extension": ".py",
   "mimetype": "text/x-python",
   "name": "python",
   "nbconvert_exporter": "python",
   "pygments_lexer": "ipython3",
   "version": "3.12.4"
  }
 },
 "nbformat": 4,
 "nbformat_minor": 2
}
